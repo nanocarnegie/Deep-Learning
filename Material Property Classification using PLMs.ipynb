{
 "cells": [
  {
   "cell_type": "markdown",
   "metadata": {
    "id": "Swuoea9C7yVo"
   },
   "source": [
    "# **INTRODUCTION**\n",
    "\n",
    "## Is There a Need for AI for Digitalized, Accelerated Materials Research?\n",
    "\n",
    "The recent, fast-growing leverage of AI and machine learning architectures for materials research and development helps to minimize trial and error methods associated with experimental/laboratory work, while also presenting an opportunity to by-pass the computational-intensive work associated with simulation techniques like DFTs, and MDs.\n",
    "\n",
    "## Using PLMs Over Other NNs and Classical Models?\n",
    "\n",
    "Building models for prediction using pretrained large language models presents opportunities like having to deal with easily human-readable/understandable data texts; and the boycott of time and energy-consuming data feature engineering processes associated with structured data."
   ]
  },
  {
   "cell_type": "markdown",
   "metadata": {
    "id": "_QjegFHZEN4K"
   },
   "source": [
    "## **Breakdown/Understanding of Task**\n",
    "\n",
    "This is a text-containing dataset with two colums, one of which a material, it's features, and a certain selected property measurement was described, while the other contains the group of the selected property. For example, the description of strength measurment of an alloy system in column one and \"mechanical property\" in column two.\n",
    "\n",
    "The task is to build a model that is able to predict the group of material property based on readable text description of the material and the property measurement."
   ]
  },
  {
   "cell_type": "markdown",
   "metadata": {
    "id": "8Rd5Olo5l3VT"
   },
   "source": [
    "## Mount Drive"
   ]
  },
  {
   "cell_type": "code",
   "execution_count": 1,
   "metadata": {
    "colab": {
     "base_uri": "https://localhost:8080/"
    },
    "id": "jMWKm9JWggaW",
    "outputId": "9131ff36-89bd-4bef-c615-48944ab6dfb1"
   },
   "outputs": [
    {
     "name": "stdout",
     "output_type": "stream",
     "text": [
      "Mounted at /content/drive\n"
     ]
    }
   ],
   "source": [
    "from google.colab import drive\n",
    "drive.mount('/content/drive')"
   ]
  },
  {
   "cell_type": "markdown",
   "metadata": {
    "id": "MJ16FAVnq06Q"
   },
   "source": [
    "## Check Device"
   ]
  },
  {
   "cell_type": "code",
   "execution_count": 2,
   "metadata": {
    "colab": {
     "base_uri": "https://localhost:8080/"
    },
    "id": "n98ZvrNSlNgt",
    "outputId": "82b9f322-addf-4165-b007-d31719cfb4ba"
   },
   "outputs": [
    {
     "name": "stdout",
     "output_type": "stream",
     "text": [
      "using cuda device\n"
     ]
    }
   ],
   "source": [
    "import torch\n",
    "device = torch.device('cuda' if torch.cuda.is_available() else 'mps' if torch.backends.mps.is_available() else 'cpu')\n",
    "print(f'using {device} device')"
   ]
  },
  {
   "cell_type": "markdown",
   "metadata": {
    "id": "G6LXxxkqYmGV"
   },
   "source": [
    "## Data Preprocessing\n",
    "\n",
    "Simple removal of certain unwanted characters within the dataset"
   ]
  },
  {
   "cell_type": "code",
   "execution_count": 3,
   "metadata": {
    "colab": {
     "base_uri": "https://localhost:8080/",
     "height": 206
    },
    "id": "i4i1gE0rmKQB",
    "outputId": "94bba8d7-ee05-4482-cd2e-4f2b721af5a5"
   },
   "outputs": [
    {
     "data": {
      "application/vnd.google.colaboratory.intrinsic+json": {
       "summary": "{\n  \"name\": \"material_text\",\n  \"rows\": 341,\n  \"fields\": [\n    {\n      \"column\": \"feature_description\",\n      \"properties\": {\n        \"dtype\": \"string\",\n        \"num_unique_values\": 341,\n        \"samples\": [\n          \"The material MnCo<sub>2</sub>Si belongs to the Co-Mn-Si system and is classified as b.c.c. atom arrangement. It has a property represented by the symbol T<sub>trs</sub> with a value of 1018 K. The measurement is taken at \\u2013. An additional parameter \\u2013 is recorded as \\u2013. The sample orientation is \\u2013. The sample is in the form of \\u2013. Additional remark: transition to B2 phase  from differential scanning calorimetry (DSC)  information taken from fig. 6.\",\n          \"The material SnO<sub>2</sub> rt belongs to the O-Sn system and is classified as diamagnetic. It has a property represented by the symbol \\u03b5 with a value of 2 10<sup>6</sup>. The measurement is taken at 300 K. An additional parameter \\u03bd is recorded as 1 10<sup>\\u22123</sup> MHz. The sample orientation is \\u2013. The sample is in the form of \\u2013. Additional remark: from permittivity measurements  information taken from fig. 4.\",\n          \"The material Ba<sub>2</sub>Cu<sub>3</sub>ErO<sub>7</sub> belongs to the Ba-Cu-Er-O system and is classified as diamagnetic. It has a property represented by the symbol T<sub>c</sub> with a value of 88.6 K. The measurement is taken at \\u2013. An additional parameter H<sub>ext</sub> is recorded as 8.0 10<sup>2</sup> A m<sup>\\u22121</sup>. The sample orientation is \\u2013. The sample is in the form of \\u2013. Additional remark: from A.C. susceptibility measurements\"\n        ],\n        \"semantic_type\": \"\",\n        \"description\": \"\"\n      }\n    },\n    {\n      \"column\": \"property_classification\",\n      \"properties\": {\n        \"dtype\": \"category\",\n        \"num_unique_values\": 61,\n        \"samples\": [\n          \"electronic and electrical properties\",\n          \"mechanical properties\",\n          \"information taken from fig. 2(cent-Yb).\"\n        ],\n        \"semantic_type\": \"\",\n        \"description\": \"\"\n      }\n    }\n  ]\n}",
       "type": "dataframe",
       "variable_name": "material_text"
      },
      "text/html": [
       "\n",
       "  <div id=\"df-1d2f1024-36ff-4148-8180-475ecf16a09d\" class=\"colab-df-container\">\n",
       "    <div>\n",
       "<style scoped>\n",
       "    .dataframe tbody tr th:only-of-type {\n",
       "        vertical-align: middle;\n",
       "    }\n",
       "\n",
       "    .dataframe tbody tr th {\n",
       "        vertical-align: top;\n",
       "    }\n",
       "\n",
       "    .dataframe thead th {\n",
       "        text-align: right;\n",
       "    }\n",
       "</style>\n",
       "<table border=\"1\" class=\"dataframe\">\n",
       "  <thead>\n",
       "    <tr style=\"text-align: right;\">\n",
       "      <th></th>\n",
       "      <th>feature_description</th>\n",
       "      <th>property_classification</th>\n",
       "    </tr>\n",
       "  </thead>\n",
       "  <tbody>\n",
       "    <tr>\n",
       "      <th>0</th>\n",
       "      <td>The material Ba&lt;sub&gt;4&lt;/sub&gt;Ni&lt;sub&gt;1.75&lt;/sub&gt;Ge...</td>\n",
       "      <td>electronic and electrical properties</td>\n",
       "    </tr>\n",
       "    <tr>\n",
       "      <th>2</th>\n",
       "      <td>The material ErNi&lt;sub&gt;2&lt;/sub&gt;B&lt;sub&gt;2&lt;/sub&gt;C rt...</td>\n",
       "      <td>magnetic properties</td>\n",
       "    </tr>\n",
       "    <tr>\n",
       "      <th>3</th>\n",
       "      <td>The material Ce&lt;sub&gt;3&lt;/sub&gt;Te&lt;sub&gt;4&lt;/sub&gt; belo...</td>\n",
       "      <td>magnetic properties</td>\n",
       "    </tr>\n",
       "    <tr>\n",
       "      <th>4</th>\n",
       "      <td>The material Ca&lt;sub&gt;0.92&lt;/sub&gt;Ce&lt;sub&gt;0.08&lt;/sub...</td>\n",
       "      <td>superconductivity</td>\n",
       "    </tr>\n",
       "    <tr>\n",
       "      <th>5</th>\n",
       "      <td>The material Nb&lt;sub&gt;3&lt;/sub&gt;Ge belongs to the G...</td>\n",
       "      <td>superconductivity</td>\n",
       "    </tr>\n",
       "  </tbody>\n",
       "</table>\n",
       "</div>\n",
       "    <div class=\"colab-df-buttons\">\n",
       "\n",
       "  <div class=\"colab-df-container\">\n",
       "    <button class=\"colab-df-convert\" onclick=\"convertToInteractive('df-1d2f1024-36ff-4148-8180-475ecf16a09d')\"\n",
       "            title=\"Convert this dataframe to an interactive table.\"\n",
       "            style=\"display:none;\">\n",
       "\n",
       "  <svg xmlns=\"http://www.w3.org/2000/svg\" height=\"24px\" viewBox=\"0 -960 960 960\">\n",
       "    <path d=\"M120-120v-720h720v720H120Zm60-500h600v-160H180v160Zm220 220h160v-160H400v160Zm0 220h160v-160H400v160ZM180-400h160v-160H180v160Zm440 0h160v-160H620v160ZM180-180h160v-160H180v160Zm440 0h160v-160H620v160Z\"/>\n",
       "  </svg>\n",
       "    </button>\n",
       "\n",
       "  <style>\n",
       "    .colab-df-container {\n",
       "      display:flex;\n",
       "      gap: 12px;\n",
       "    }\n",
       "\n",
       "    .colab-df-convert {\n",
       "      background-color: #E8F0FE;\n",
       "      border: none;\n",
       "      border-radius: 50%;\n",
       "      cursor: pointer;\n",
       "      display: none;\n",
       "      fill: #1967D2;\n",
       "      height: 32px;\n",
       "      padding: 0 0 0 0;\n",
       "      width: 32px;\n",
       "    }\n",
       "\n",
       "    .colab-df-convert:hover {\n",
       "      background-color: #E2EBFA;\n",
       "      box-shadow: 0px 1px 2px rgba(60, 64, 67, 0.3), 0px 1px 3px 1px rgba(60, 64, 67, 0.15);\n",
       "      fill: #174EA6;\n",
       "    }\n",
       "\n",
       "    .colab-df-buttons div {\n",
       "      margin-bottom: 4px;\n",
       "    }\n",
       "\n",
       "    [theme=dark] .colab-df-convert {\n",
       "      background-color: #3B4455;\n",
       "      fill: #D2E3FC;\n",
       "    }\n",
       "\n",
       "    [theme=dark] .colab-df-convert:hover {\n",
       "      background-color: #434B5C;\n",
       "      box-shadow: 0px 1px 3px 1px rgba(0, 0, 0, 0.15);\n",
       "      filter: drop-shadow(0px 1px 2px rgba(0, 0, 0, 0.3));\n",
       "      fill: #FFFFFF;\n",
       "    }\n",
       "  </style>\n",
       "\n",
       "    <script>\n",
       "      const buttonEl =\n",
       "        document.querySelector('#df-1d2f1024-36ff-4148-8180-475ecf16a09d button.colab-df-convert');\n",
       "      buttonEl.style.display =\n",
       "        google.colab.kernel.accessAllowed ? 'block' : 'none';\n",
       "\n",
       "      async function convertToInteractive(key) {\n",
       "        const element = document.querySelector('#df-1d2f1024-36ff-4148-8180-475ecf16a09d');\n",
       "        const dataTable =\n",
       "          await google.colab.kernel.invokeFunction('convertToInteractive',\n",
       "                                                    [key], {});\n",
       "        if (!dataTable) return;\n",
       "\n",
       "        const docLinkHtml = 'Like what you see? Visit the ' +\n",
       "          '<a target=\"_blank\" href=https://colab.research.google.com/notebooks/data_table.ipynb>data table notebook</a>'\n",
       "          + ' to learn more about interactive tables.';\n",
       "        element.innerHTML = '';\n",
       "        dataTable['output_type'] = 'display_data';\n",
       "        await google.colab.output.renderOutput(dataTable, element);\n",
       "        const docLink = document.createElement('div');\n",
       "        docLink.innerHTML = docLinkHtml;\n",
       "        element.appendChild(docLink);\n",
       "      }\n",
       "    </script>\n",
       "  </div>\n",
       "\n",
       "\n",
       "<div id=\"df-d4e8fb47-48ad-477e-8f28-2952ce73b71a\">\n",
       "  <button class=\"colab-df-quickchart\" onclick=\"quickchart('df-d4e8fb47-48ad-477e-8f28-2952ce73b71a')\"\n",
       "            title=\"Suggest charts\"\n",
       "            style=\"display:none;\">\n",
       "\n",
       "<svg xmlns=\"http://www.w3.org/2000/svg\" height=\"24px\"viewBox=\"0 0 24 24\"\n",
       "     width=\"24px\">\n",
       "    <g>\n",
       "        <path d=\"M19 3H5c-1.1 0-2 .9-2 2v14c0 1.1.9 2 2 2h14c1.1 0 2-.9 2-2V5c0-1.1-.9-2-2-2zM9 17H7v-7h2v7zm4 0h-2V7h2v10zm4 0h-2v-4h2v4z\"/>\n",
       "    </g>\n",
       "</svg>\n",
       "  </button>\n",
       "\n",
       "<style>\n",
       "  .colab-df-quickchart {\n",
       "      --bg-color: #E8F0FE;\n",
       "      --fill-color: #1967D2;\n",
       "      --hover-bg-color: #E2EBFA;\n",
       "      --hover-fill-color: #174EA6;\n",
       "      --disabled-fill-color: #AAA;\n",
       "      --disabled-bg-color: #DDD;\n",
       "  }\n",
       "\n",
       "  [theme=dark] .colab-df-quickchart {\n",
       "      --bg-color: #3B4455;\n",
       "      --fill-color: #D2E3FC;\n",
       "      --hover-bg-color: #434B5C;\n",
       "      --hover-fill-color: #FFFFFF;\n",
       "      --disabled-bg-color: #3B4455;\n",
       "      --disabled-fill-color: #666;\n",
       "  }\n",
       "\n",
       "  .colab-df-quickchart {\n",
       "    background-color: var(--bg-color);\n",
       "    border: none;\n",
       "    border-radius: 50%;\n",
       "    cursor: pointer;\n",
       "    display: none;\n",
       "    fill: var(--fill-color);\n",
       "    height: 32px;\n",
       "    padding: 0;\n",
       "    width: 32px;\n",
       "  }\n",
       "\n",
       "  .colab-df-quickchart:hover {\n",
       "    background-color: var(--hover-bg-color);\n",
       "    box-shadow: 0 1px 2px rgba(60, 64, 67, 0.3), 0 1px 3px 1px rgba(60, 64, 67, 0.15);\n",
       "    fill: var(--button-hover-fill-color);\n",
       "  }\n",
       "\n",
       "  .colab-df-quickchart-complete:disabled,\n",
       "  .colab-df-quickchart-complete:disabled:hover {\n",
       "    background-color: var(--disabled-bg-color);\n",
       "    fill: var(--disabled-fill-color);\n",
       "    box-shadow: none;\n",
       "  }\n",
       "\n",
       "  .colab-df-spinner {\n",
       "    border: 2px solid var(--fill-color);\n",
       "    border-color: transparent;\n",
       "    border-bottom-color: var(--fill-color);\n",
       "    animation:\n",
       "      spin 1s steps(1) infinite;\n",
       "  }\n",
       "\n",
       "  @keyframes spin {\n",
       "    0% {\n",
       "      border-color: transparent;\n",
       "      border-bottom-color: var(--fill-color);\n",
       "      border-left-color: var(--fill-color);\n",
       "    }\n",
       "    20% {\n",
       "      border-color: transparent;\n",
       "      border-left-color: var(--fill-color);\n",
       "      border-top-color: var(--fill-color);\n",
       "    }\n",
       "    30% {\n",
       "      border-color: transparent;\n",
       "      border-left-color: var(--fill-color);\n",
       "      border-top-color: var(--fill-color);\n",
       "      border-right-color: var(--fill-color);\n",
       "    }\n",
       "    40% {\n",
       "      border-color: transparent;\n",
       "      border-right-color: var(--fill-color);\n",
       "      border-top-color: var(--fill-color);\n",
       "    }\n",
       "    60% {\n",
       "      border-color: transparent;\n",
       "      border-right-color: var(--fill-color);\n",
       "    }\n",
       "    80% {\n",
       "      border-color: transparent;\n",
       "      border-right-color: var(--fill-color);\n",
       "      border-bottom-color: var(--fill-color);\n",
       "    }\n",
       "    90% {\n",
       "      border-color: transparent;\n",
       "      border-bottom-color: var(--fill-color);\n",
       "    }\n",
       "  }\n",
       "</style>\n",
       "\n",
       "  <script>\n",
       "    async function quickchart(key) {\n",
       "      const quickchartButtonEl =\n",
       "        document.querySelector('#' + key + ' button');\n",
       "      quickchartButtonEl.disabled = true;  // To prevent multiple clicks.\n",
       "      quickchartButtonEl.classList.add('colab-df-spinner');\n",
       "      try {\n",
       "        const charts = await google.colab.kernel.invokeFunction(\n",
       "            'suggestCharts', [key], {});\n",
       "      } catch (error) {\n",
       "        console.error('Error during call to suggestCharts:', error);\n",
       "      }\n",
       "      quickchartButtonEl.classList.remove('colab-df-spinner');\n",
       "      quickchartButtonEl.classList.add('colab-df-quickchart-complete');\n",
       "    }\n",
       "    (() => {\n",
       "      let quickchartButtonEl =\n",
       "        document.querySelector('#df-d4e8fb47-48ad-477e-8f28-2952ce73b71a button');\n",
       "      quickchartButtonEl.style.display =\n",
       "        google.colab.kernel.accessAllowed ? 'block' : 'none';\n",
       "    })();\n",
       "  </script>\n",
       "</div>\n",
       "\n",
       "    </div>\n",
       "  </div>\n"
      ],
      "text/plain": [
       "                                 feature_description  \\\n",
       "0  The material Ba<sub>4</sub>Ni<sub>1.75</sub>Ge...   \n",
       "2  The material ErNi<sub>2</sub>B<sub>2</sub>C rt...   \n",
       "3  The material Ce<sub>3</sub>Te<sub>4</sub> belo...   \n",
       "4  The material Ca<sub>0.92</sub>Ce<sub>0.08</sub...   \n",
       "5  The material Nb<sub>3</sub>Ge belongs to the G...   \n",
       "\n",
       "                property_classification  \n",
       "0  electronic and electrical properties  \n",
       "2                   magnetic properties  \n",
       "3                   magnetic properties  \n",
       "4                     superconductivity  \n",
       "5                     superconductivity  "
      ]
     },
     "execution_count": 3,
     "metadata": {},
     "output_type": "execute_result"
    }
   ],
   "source": [
    "import pandas as pd\n",
    "\n",
    "file_path = \"drive/MyDrive/MPIE_task/matsci_text_classification_dataset.csv\"\n",
    "\n",
    "# Load the dataset\n",
    "material_text = pd.read_csv(file_path,\n",
    "                            delimiter = \";\",\n",
    "                            usecols=[0, 1],\n",
    "                            names = [\"feature_description\", \"property_classification\"],\n",
    "                            skiprows=1)\n",
    "\n",
    "# Clean the property description column to remove unnecessary characters (commas)\n",
    "material_text[\"property_classification\"] = material_text[\"property_classification\"].str.replace(\",\", \" \", regex = True).str.strip()\n",
    "\n",
    "# Drop rows where the property description column is missing (NaN) values\n",
    "material_text = material_text.dropna(subset=[\"property_classification\"])\n",
    "\n",
    "#Preview the preprocessed dataset\n",
    "material_text.head(5)"
   ]
  },
  {
   "cell_type": "code",
   "execution_count": 4,
   "metadata": {
    "colab": {
     "base_uri": "https://localhost:8080/"
    },
    "id": "Z43Waihuitse",
    "outputId": "b0e55844-37ba-48e7-b929-44b401757a63"
   },
   "outputs": [
    {
     "name": "stdout",
     "output_type": "stream",
     "text": [
      "Requirement already satisfied: transformers in /usr/local/lib/python3.11/dist-packages (4.48.3)\n",
      "Requirement already satisfied: filelock in /usr/local/lib/python3.11/dist-packages (from transformers) (3.17.0)\n",
      "Requirement already satisfied: huggingface-hub<1.0,>=0.24.0 in /usr/local/lib/python3.11/dist-packages (from transformers) (0.28.1)\n",
      "Requirement already satisfied: numpy>=1.17 in /usr/local/lib/python3.11/dist-packages (from transformers) (1.26.4)\n",
      "Requirement already satisfied: packaging>=20.0 in /usr/local/lib/python3.11/dist-packages (from transformers) (24.2)\n",
      "Requirement already satisfied: pyyaml>=5.1 in /usr/local/lib/python3.11/dist-packages (from transformers) (6.0.2)\n",
      "Requirement already satisfied: regex!=2019.12.17 in /usr/local/lib/python3.11/dist-packages (from transformers) (2024.11.6)\n",
      "Requirement already satisfied: requests in /usr/local/lib/python3.11/dist-packages (from transformers) (2.32.3)\n",
      "Requirement already satisfied: tokenizers<0.22,>=0.21 in /usr/local/lib/python3.11/dist-packages (from transformers) (0.21.0)\n",
      "Requirement already satisfied: safetensors>=0.4.1 in /usr/local/lib/python3.11/dist-packages (from transformers) (0.5.3)\n",
      "Requirement already satisfied: tqdm>=4.27 in /usr/local/lib/python3.11/dist-packages (from transformers) (4.67.1)\n",
      "Requirement already satisfied: fsspec>=2023.5.0 in /usr/local/lib/python3.11/dist-packages (from huggingface-hub<1.0,>=0.24.0->transformers) (2024.10.0)\n",
      "Requirement already satisfied: typing-extensions>=3.7.4.3 in /usr/local/lib/python3.11/dist-packages (from huggingface-hub<1.0,>=0.24.0->transformers) (4.12.2)\n",
      "Requirement already satisfied: charset-normalizer<4,>=2 in /usr/local/lib/python3.11/dist-packages (from requests->transformers) (3.4.1)\n",
      "Requirement already satisfied: idna<4,>=2.5 in /usr/local/lib/python3.11/dist-packages (from requests->transformers) (3.10)\n",
      "Requirement already satisfied: urllib3<3,>=1.21.1 in /usr/local/lib/python3.11/dist-packages (from requests->transformers) (2.3.0)\n",
      "Requirement already satisfied: certifi>=2017.4.17 in /usr/local/lib/python3.11/dist-packages (from requests->transformers) (2025.1.31)\n"
     ]
    }
   ],
   "source": [
    "pip install transformers"
   ]
  },
  {
   "cell_type": "markdown",
   "metadata": {
    "id": "fd2ebRj-KXcr"
   },
   "source": [
    "## **Choice of Model: RoBERTa PLM**\n",
    "\n",
    "The RoBERTa is an improved model of the BERT that generates contextual token embedding, without having to worry about next sentence prediciton. This could be really useful for scientific applications where technical words are very paramont."
   ]
  },
  {
   "cell_type": "markdown",
   "metadata": {
    "id": "E2I0bwsJiKX0"
   },
   "source": [
    "## Load Dataset into PLM RoBERTa for Tokenization and Embedding Generation"
   ]
  },
  {
   "cell_type": "code",
   "execution_count": 5,
   "metadata": {
    "colab": {
     "base_uri": "https://localhost:8080/",
     "height": 368,
     "referenced_widgets": [
      "b49038972d4a459997441f150914f2ad",
      "20d52ce3cbaf482baf869b51413789da",
      "590a213001204073bcf55a2ccb1a0639",
      "f9428b6186574c248161c6f833acdb5f",
      "ab3a2e30d08246c994500504543eca38",
      "a2c45a4a442549009393fda847628cb4",
      "94f4a954ca7b4022a787f8fd19d6f6ca",
      "5c9687b4e592404b840f1b9e4ec3adfa",
      "bf938619707f4d4ba8efd37bc28ff016",
      "7d5f1381c251479f8397c5abb8aed864",
      "e27dd76d5d174d77b3bd53175407b2b1",
      "c8dca18ee16e4531af0a1dc00ce3bc68",
      "7906f5a8db4d493a89fc2a637a13b4f5",
      "9665117e27b844e1a449a26a2c048558",
      "89c1409702324ff6a3d95fb00df82e65",
      "603aac39ba7d401b828846c99a4752b5",
      "814dba4ba4a04f6e8e6a4247946eaf7d",
      "aa1a7b4d2dee496dbe6c3cb9f69f4ace",
      "d416016262b044d9bb4981e896e1c6bc",
      "8e22830186eb400f9c91db47141a9d59",
      "8fa36e59fde74977918340ac5a131d2f",
      "dd8042a40c5e406c8620ec910c96cbc7",
      "12d48d758aed4b5bbc980bdaad4f5abd",
      "032db0eb20094d779f57ee72d457eef6",
      "9d600117417442d48709a4da89ad24ba",
      "4f6c56b28cf4433a99542de85b37998f",
      "48877027f16d406da4d0e52d2c068580",
      "e791254c966f4bf2a090fff497604a24",
      "090ab27434a7429a96a11b43b2f10d45",
      "48c54fb49c9848d0881511955dd21286",
      "28f1a667d40f4bcf90d497398369b260",
      "f38b6625b0b64718a706bcbe8ced2cd8",
      "fd38c4d368f44b13a38193c40c31abea",
      "f7bb3260da4a477e85b05619d53c6f5a",
      "fdd33b31208e4570b4948b6dfffb963b",
      "46e50e8c42e04ffa818c2d0c9c10c1ac",
      "e194dc06ea0b45e18808101c290d4b1e",
      "d3bf5f7079cf43a490ffb2451e5f4ff7",
      "bf803e27ac6842718328c0a8112d8a2e",
      "2774e9ff2445420886736558acd2218c",
      "8527534a9f9147ec9695f4d85277f886",
      "7567dc6b8c50438da4a2a1ab26e3ca22",
      "173a8411df164e669cc8d1b3d1cf8fba",
      "0712a98987e84f4aabcea31acfb25680",
      "48223e474a384ae78e372bd44839c0fe",
      "6e8157bec452482f8d6135e25b2050ce",
      "dc2dc8a7d49f4142a1e3019ed4c1a67a",
      "d379a05ed9d840619b5eac83e0f29161",
      "2cb7eabd6c8444e4b8786f53e26a3415",
      "bf8fbccba73c437199e56ee105478f3d",
      "339a369c736a4cd496352488f6992ccf",
      "c817bccf519d4319870809d68950ee70",
      "e28e7463f40c4024adf3a8e27c305033",
      "1d67c2ab6cd94364b1d4ec42032fc79f",
      "983a1d4d8dcb4d76ad551bc53d0476aa",
      "138b2075bae0438895e84f4a47b57ea8",
      "e1ae888669bc4da292060eaced292bd8",
      "8e15e3f74da64f0095177e2c75029820",
      "ff45fb7fbfd04666922c1938d82aa60c",
      "25273622e9d24a61ad19ab83ffc544aa",
      "8638a2e4201a4255ae5ced21b16b63dd",
      "ad654a40a909469d9419b5988614a1b5",
      "715231de5edc4bf692cf57cd7395f7a3",
      "d9969aa9bf6c48eb930c452da4d0d9de",
      "32ad4583841445199178a2af9cb25a1b",
      "34e30ccfb1194d099da2da18fa35f6db"
     ]
    },
    "id": "auOJm8g8hOxY",
    "outputId": "4a4b320a-7d0c-4f32-8f16-8ef28b04c6d5"
   },
   "outputs": [
    {
     "name": "stderr",
     "output_type": "stream",
     "text": [
      "/usr/local/lib/python3.11/dist-packages/huggingface_hub/utils/_auth.py:94: UserWarning: \n",
      "The secret `HF_TOKEN` does not exist in your Colab secrets.\n",
      "To authenticate with the Hugging Face Hub, create a token in your settings tab (https://huggingface.co/settings/tokens), set it as secret in your Google Colab and restart your session.\n",
      "You will be able to reuse this secret in all of your notebooks.\n",
      "Please note that authentication is recommended but still optional to access public models or datasets.\n",
      "  warnings.warn(\n"
     ]
    },
    {
     "data": {
      "application/vnd.jupyter.widget-view+json": {
       "model_id": "b49038972d4a459997441f150914f2ad",
       "version_major": 2,
       "version_minor": 0
      },
      "text/plain": [
       "tokenizer_config.json:   0%|          | 0.00/25.0 [00:00<?, ?B/s]"
      ]
     },
     "metadata": {},
     "output_type": "display_data"
    },
    {
     "data": {
      "application/vnd.jupyter.widget-view+json": {
       "model_id": "c8dca18ee16e4531af0a1dc00ce3bc68",
       "version_major": 2,
       "version_minor": 0
      },
      "text/plain": [
       "vocab.json:   0%|          | 0.00/899k [00:00<?, ?B/s]"
      ]
     },
     "metadata": {},
     "output_type": "display_data"
    },
    {
     "data": {
      "application/vnd.jupyter.widget-view+json": {
       "model_id": "12d48d758aed4b5bbc980bdaad4f5abd",
       "version_major": 2,
       "version_minor": 0
      },
      "text/plain": [
       "merges.txt:   0%|          | 0.00/456k [00:00<?, ?B/s]"
      ]
     },
     "metadata": {},
     "output_type": "display_data"
    },
    {
     "data": {
      "application/vnd.jupyter.widget-view+json": {
       "model_id": "f7bb3260da4a477e85b05619d53c6f5a",
       "version_major": 2,
       "version_minor": 0
      },
      "text/plain": [
       "tokenizer.json:   0%|          | 0.00/1.36M [00:00<?, ?B/s]"
      ]
     },
     "metadata": {},
     "output_type": "display_data"
    },
    {
     "data": {
      "application/vnd.jupyter.widget-view+json": {
       "model_id": "48223e474a384ae78e372bd44839c0fe",
       "version_major": 2,
       "version_minor": 0
      },
      "text/plain": [
       "config.json:   0%|          | 0.00/481 [00:00<?, ?B/s]"
      ]
     },
     "metadata": {},
     "output_type": "display_data"
    },
    {
     "data": {
      "application/vnd.jupyter.widget-view+json": {
       "model_id": "138b2075bae0438895e84f4a47b57ea8",
       "version_major": 2,
       "version_minor": 0
      },
      "text/plain": [
       "model.safetensors:   0%|          | 0.00/499M [00:00<?, ?B/s]"
      ]
     },
     "metadata": {},
     "output_type": "display_data"
    },
    {
     "name": "stderr",
     "output_type": "stream",
     "text": [
      "Some weights of RobertaModel were not initialized from the model checkpoint at roberta-base and are newly initialized: ['roberta.pooler.dense.bias', 'roberta.pooler.dense.weight']\n",
      "You should probably TRAIN this model on a down-stream task to be able to use it for predictions and inference.\n"
     ]
    }
   ],
   "source": [
    "from torch.utils.data import DataLoader, Dataset\n",
    "from transformers import RobertaTokenizer, RobertaModel\n",
    "import torch\n",
    "import numpy as np\n",
    "import pandas as pd\n",
    "\n",
    "\n",
    "# Load the pre-trained RoBERTa model and tokenizer\n",
    "tokenizer = RobertaTokenizer.from_pretrained(\"roberta-base\")\n",
    "model = RobertaModel.from_pretrained(\"roberta-base\")\n",
    "\n",
    "\n",
    "#Let's create function for batch proprocessing of data\n",
    "class MaterialPropertyDataset(Dataset):\n",
    "    def __init__(self, material_features):\n",
    "        self.material_features = material_features\n",
    "\n",
    "    def __len__(self):\n",
    "        return len(self.material_features)\n",
    "\n",
    "    def __getitem__(self, idx):\n",
    "        return self.material_features[idx]\n",
    "\n",
    "# Create function to generate embeddings in batches\n",
    "def get_cls_embeddings_batchwise(material_features_list, batch_size = 16):\n",
    "  # The CLS embeddings have been given priority because it is known to encapsulate the entire sentence rather each generated token which could be arbitraty and strictly model-determined\n",
    "    dataset = MaterialPropertyDataset(material_features_list)\n",
    "    dataloader = DataLoader(dataset, batch_size = batch_size)\n",
    "\n",
    "    all_cls_embeddings = []\n",
    "\n",
    "    model.eval()\n",
    "    with torch.no_grad():\n",
    "        for batch in dataloader:\n",
    "            tokens = tokenizer(batch, padding=True, truncation=True, return_tensors=\"pt\", max_length=512)\n",
    "            tokens = {key: value.to(device) for key, value in tokens.items()}  # Move tokens to GPU\n",
    "            output = model(**tokens)\n",
    "            embeddings = output.last_hidden_state[:, 0, :].cpu().numpy()  # CLS token embedding\n",
    "            all_cls_embeddings.append(embeddings)\n",
    "\n",
    "    return np.vstack(all_cls_embeddings)"
   ]
  },
  {
   "cell_type": "markdown",
   "metadata": {
    "id": "t0U6o1IuDZ5B"
   },
   "source": [
    "## Generate Embeddings from Appropriate Classes and Functions"
   ]
  },
  {
   "cell_type": "code",
   "execution_count": 6,
   "metadata": {
    "id": "lGp7lBH1DYGL"
   },
   "outputs": [],
   "source": [
    "device = torch.device(\"cuda\" if torch.cuda.is_available() else \"cpu\")\n",
    "model.to(device)\n",
    "\n",
    "\n",
    "# Assign the appropriate column of the dataset\n",
    "material_features_list = material_text[\"feature_description\"].astype(str).tolist()\n",
    "\n",
    "#Pass in the features text description in batches\n",
    "cls_embeddings_array = get_cls_embeddings_batchwise(material_features_list, batch_size = 16)"
   ]
  },
  {
   "cell_type": "markdown",
   "metadata": {
    "id": "80EzVDA7KOzo"
   },
   "source": [
    "## Visualization of Embeddings Based on Material Class\n",
    "\n",
    "This is an important part of the task. The material classes (e.g metal, semiconductor) are contained within the feature description column. It would be interesting to see if a plot of the embeddings generated by the model is able to show distinction of the different classes of material. This would already give an insight into its predictive performance."
   ]
  },
  {
   "cell_type": "code",
   "execution_count": 9,
   "metadata": {
    "colab": {
     "base_uri": "https://localhost:8080/",
     "height": 1000
    },
    "id": "lG9hsaCpKYT8",
    "outputId": "c433212c-6256-49c6-8cb3-ca00532311f8"
   },
   "outputs": [
    {
     "name": "stdout",
     "output_type": "stream",
     "text": [
      "\n",
      "Possible Material Class Type\n",
      "intermediate       20\n",
      "baal4              20\n",
      "ferroelectric      19\n",
      "perovskite         19\n",
      "alb2               19\n",
      "ionic              19\n",
      "nonmetal           19\n",
      "b.c.c.             19\n",
      "semiconductor      18\n",
      "ferromagnet        18\n",
      "close-packed       18\n",
      "heavy-fermion      18\n",
      "metal              17\n",
      "antiferromagnet    17\n",
      "superconductor     17\n",
      "cuprate            17\n",
      "ferrimagnet        16\n",
      "hard               16\n",
      "diamagnetic        15\n",
      "Name: count, dtype: int64\n"
     ]
    },
    {
     "data": {
      "image/png": "[encoded data removed]",
      "text/plain": [
       "<Figure size 800x800 with 1 Axes>"
      ]
     },
     "metadata": {},
     "output_type": "display_data"
    }
   ],
   "source": [
    "import numpy as np\n",
    "import pandas as pd\n",
    "from sklearn.manifold import TSNE\n",
    "import matplotlib.pyplot as plt\n",
    "import re\n",
    "import seaborn as sns\n",
    "from sklearn.model_selection import train_test_split\n",
    "from bs4 import BeautifulSoup\n",
    "\n",
    "def cls_embeddings_based_on_material_class(cls_embeddings_array, material_text):\n",
    "\n",
    "    texts = material_text[\"feature_description\"].values\n",
    "\n",
    "\n",
    "\n",
    "    def get_material_class(text):\n",
    "      # Convert HTML subscripts (e.g., BaAl<sub>4</sub> to BaAl4)\n",
    "      text = BeautifulSoup(text, \"html.parser\").get_text()\n",
    "\n",
    "\n",
    "      material_classes = {\"metal\", \"antiferromagnet\", \"ferromagnet\",\"nonmetal\",\n",
    "                          \"semiconductor\", \"intermediate\", \"diamagnetic\",\n",
    "                          \"ferrimagnet\", \"superconductor\", \"ferroelectric\",\n",
    "                          \"heavy-fermion\", \"hard\", \"ionic\", \"perovskite\",\n",
    "                            \"cuprate\", \"close-packed\", \"baal4\",\n",
    "                            \"alb2\", \"b.c.c.\"}\n",
    "\n",
    "\n",
    "      pattern = r\"\\b(metal|antiferromagnet|ferromagnet|nonmetal|semiconductor|intermediate|diamagnetic|ferrimagnet|superconductor|ferroelectric|heavy-fermion|hard|ionic|perovskite|cuprate|close-packed|baal4|alb2|b\\.c\\.c\\.)\\b\"\n",
    "\n",
    "      match = re.search(pattern, text.lower())\n",
    "\n",
    "      if match:\n",
    "        return match.group(1)\n",
    "\n",
    "      classes = text.lower().split()\n",
    "      for word in classes:\n",
    "        if word in material_classes:\n",
    "          return word\n",
    "\n",
    "      return \"unknown\"\n",
    "\n",
    "\n",
    "    material_classes = [get_material_class(text) for text in texts]\n",
    "\n",
    "\n",
    "    tsne = TSNE(n_components=2,\n",
    "                perplexity = min(len(cls_embeddings_array) // 3, 30),\n",
    "                random_state=42, verbose = 0)\n",
    "    tsne_results = tsne.fit_transform(cls_embeddings_array)\n",
    "\n",
    "\n",
    "    embeddings_plot_for_material_class = pd.DataFrame({\n",
    "        'tsne_1': tsne_results[:, 0], 'tsne_2': tsne_results[:, 1],\n",
    "        'material_class': material_classes})\n",
    "\n",
    "\n",
    "    plt.figure(figsize=(8, 8))\n",
    "\n",
    "\n",
    "    Number_of_material_class = pd.Series(material_classes).value_counts()\n",
    "    print(\"\\nPossible Material Class Type\")\n",
    "    print(Number_of_material_class)\n",
    "\n",
    "    sns.scatterplot(data = embeddings_plot_for_material_class,\n",
    "                           x = 'tsne_1', y = 'tsne_2', hue = 'material_class',\n",
    "                           palette = \"coolwarm\", alpha = 0.9)\n",
    "\n",
    "\n",
    "    plt.legend(title = 'Material Class', loc = 'best', fontsize = 8,\n",
    "               title_fontsize = 8)\n",
    "    plt.xticks([])\n",
    "    plt.yticks([])\n",
    "    plt.xlabel('')\n",
    "    plt.ylabel('')\n",
    "\n",
    "    plt.tight_layout()\n",
    "    plt.show()\n",
    "\n",
    "    return plt, Number_of_material_class\n",
    "\n",
    "Number_of_material_class = cls_embeddings_based_on_material_class(cls_embeddings_array, material_text)\n"
   ]
  },
  {
   "cell_type": "markdown",
   "metadata": {
    "id": "17RVWxNoYTlN"
   },
   "source": [
    "We observe that the model truly identifies similarities in material classes and shows distinction amongst them. We also observe closeness/overlapping of some material classes which exaplains similarities in their embeddings most likely due to similarities in features and routine for material property measurement description."
   ]
  },
  {
   "cell_type": "markdown",
   "metadata": {
    "id": "FcJcJSmxPB4Y"
   },
   "source": [
    "## Integrating a Predictive Classification Model for Property Prediction\n",
    "\n",
    "Based on the nature of our dataset (particularly our label/target property), a multi-categorical classication model is required to predict our material property group. The random forest and support vector classifiers are considered.\n",
    "\n",
    "Classifications are made with generated CLS embeddings as features."
   ]
  },
  {
   "cell_type": "markdown",
   "metadata": {
    "id": "grXpr2TWRGwn"
   },
   "source": [
    "### Random Forest Classifier"
   ]
  },
  {
   "cell_type": "code",
   "execution_count": 17,
   "metadata": {
    "colab": {
     "base_uri": "https://localhost:8080/"
    },
    "id": "RdDwrmjNeA_n",
    "outputId": "d0938d1e-f28f-4ffb-c0b4-26c58149cf00"
   },
   "outputs": [
    {
     "data": {
      "text/plain": [
       "(341, 768)"
      ]
     },
     "execution_count": 17,
     "metadata": {},
     "output_type": "execute_result"
    }
   ],
   "source": [
    "cls_embeddings_array.shape"
   ]
  },
  {
   "cell_type": "code",
   "execution_count": 19,
   "metadata": {
    "colab": {
     "base_uri": "https://localhost:8080/"
    },
    "id": "joIixwdKPBOp",
    "outputId": "15833791-de5c-47d0-9b47-c491403873e5"
   },
   "outputs": [
    {
     "name": "stdout",
     "output_type": "stream",
     "text": [
      "✅ Model Accuracy: 0.5690\n",
      "\n",
      "Classification Report:\n",
      "                                      precision    recall  f1-score   support\n",
      "\n",
      "electronic and electrical properties       0.47      0.69      0.56        13\n",
      "                 magnetic properties       0.59      0.87      0.70        23\n",
      "               mechanical properties       0.00      0.00      0.00         3\n",
      "             metamagnetic transition       0.00      0.00      0.00         1\n",
      "                  optical properties       0.00      0.00      0.00         1\n",
      "                   phase transitions       1.00      0.25      0.40         4\n",
      "                   superconductivity       0.00      0.00      0.00         4\n",
      "thermal and thermodynamic properties       0.75      0.33      0.46         9\n",
      "\n",
      "                            accuracy                           0.57        58\n",
      "                           macro avg       0.35      0.27      0.27        58\n",
      "                        weighted avg       0.52      0.57      0.50        58\n",
      "\n"
     ]
    },
    {
     "name": "stderr",
     "output_type": "stream",
     "text": [
      "/usr/local/lib/python3.11/dist-packages/sklearn/metrics/_classification.py:1565: UndefinedMetricWarning: Precision is ill-defined and being set to 0.0 in labels with no predicted samples. Use `zero_division` parameter to control this behavior.\n",
      "  _warn_prf(average, modifier, f\"{metric.capitalize()} is\", len(result))\n",
      "/usr/local/lib/python3.11/dist-packages/sklearn/metrics/_classification.py:1565: UndefinedMetricWarning: Precision is ill-defined and being set to 0.0 in labels with no predicted samples. Use `zero_division` parameter to control this behavior.\n",
      "  _warn_prf(average, modifier, f\"{metric.capitalize()} is\", len(result))\n",
      "/usr/local/lib/python3.11/dist-packages/sklearn/metrics/_classification.py:1565: UndefinedMetricWarning: Precision is ill-defined and being set to 0.0 in labels with no predicted samples. Use `zero_division` parameter to control this behavior.\n",
      "  _warn_prf(average, modifier, f\"{metric.capitalize()} is\", len(result))\n"
     ]
    }
   ],
   "source": [
    "from sklearn.model_selection import train_test_split\n",
    "from sklearn.preprocessing import LabelEncoder\n",
    "from sklearn.ensemble import RandomForestClassifier\n",
    "from sklearn.metrics import accuracy_score, classification_report, confusion_matrix\n",
    "\n",
    "\n",
    "embeddings_for_classification = pd.DataFrame(cls_embeddings_array,\n",
    "                                             columns = [f\"dim_{i}\" for i in range(cls_embeddings_array.shape[1])])\n",
    "\n",
    "predicted_property = material_text[\"property_classification\"]\n",
    "\n",
    "\n",
    "# Encode the categorical target labels\n",
    "label_encoder = LabelEncoder()\n",
    "encoded_property = label_encoder.fit_transform(predicted_property)\n",
    "\n",
    "# Identify class counts\n",
    "encoded_property_counts = pd.Series(encoded_property).value_counts()\n",
    "\n",
    "# Remove rare classes with fewer than 3 samples\n",
    "valid_properties = encoded_property_counts[encoded_property_counts > 1].index\n",
    "valid_encoded_property = np.where(np.isin(encoded_property, valid_properties))[0]\n",
    "\n",
    "# Filter dataset to include only valid classes\n",
    "embeddings_for_classification = embeddings_for_classification.iloc[valid_encoded_property].reset_index(drop=True)\n",
    "encoded_property = encoded_property[valid_encoded_property]\n",
    "\n",
    "\n",
    "# Split the data into training and testing sets\n",
    "X_train, X_test, y_train, y_test = train_test_split(embeddings_for_classification, encoded_property, test_size = 0.2, random_state = 101)\n",
    "\n",
    "# Train a Random Forest Classifier\n",
    "clf = RandomForestClassifier(n_estimators=100, random_state = 101)\n",
    "clf.fit(X_train, y_train)\n",
    "\n",
    "# Make predictions\n",
    "y_pred = clf.predict(X_test)\n",
    "\n",
    "# Evaluate model performance\n",
    "property_prediction_accuracy = accuracy_score(y_test, y_pred)\n",
    "print(f\"✅ Model Accuracy: {property_prediction_accuracy:.4f}\")\n",
    "\n",
    "# Extract all classifiable material property\n",
    "possible_properties = np.unique(y_test)\n",
    "possible_property = [label_encoder.classes_[i] for i in possible_properties]\n",
    "\n",
    "# Classification Report\n",
    "print(\"\\nClassification Report:\")\n",
    "print(classification_report(y_test, y_pred, labels = possible_properties, target_names = possible_property))"
   ]
  },
  {
   "cell_type": "markdown",
   "metadata": {
    "id": "U3IHQ4tkevUA"
   },
   "source": [
    "### Support Vector Classifier"
   ]
  },
  {
   "cell_type": "code",
   "execution_count": 20,
   "metadata": {
    "colab": {
     "base_uri": "https://localhost:8080/"
    },
    "id": "DUXRiQ11euPg",
    "outputId": "aa2c8d55-900f-43c3-aa14-2c83e7fad42f"
   },
   "outputs": [
    {
     "name": "stdout",
     "output_type": "stream",
     "text": [
      "✅ Model Accuracy: 0.7241\n",
      "\n",
      "Classification Report:\n",
      "                                      precision    recall  f1-score   support\n",
      "\n",
      "electronic and electrical properties       0.58      0.85      0.69        13\n",
      "                 magnetic properties       0.82      0.78      0.80        23\n",
      "               mechanical properties       0.00      0.00      0.00         3\n",
      "             metamagnetic transition       0.00      0.00      0.00         1\n",
      "                  optical properties       0.00      0.00      0.00         1\n",
      "                   phase transitions       1.00      1.00      1.00         4\n",
      "                   superconductivity       0.67      0.50      0.57         4\n",
      "thermal and thermodynamic properties       0.78      0.78      0.78         9\n",
      "\n",
      "                            accuracy                           0.72        58\n",
      "                           macro avg       0.48      0.49      0.48        58\n",
      "                        weighted avg       0.69      0.72      0.70        58\n",
      "\n"
     ]
    },
    {
     "name": "stderr",
     "output_type": "stream",
     "text": [
      "/usr/local/lib/python3.11/dist-packages/sklearn/metrics/_classification.py:1565: UndefinedMetricWarning: Precision is ill-defined and being set to 0.0 in labels with no predicted samples. Use `zero_division` parameter to control this behavior.\n",
      "  _warn_prf(average, modifier, f\"{metric.capitalize()} is\", len(result))\n",
      "/usr/local/lib/python3.11/dist-packages/sklearn/metrics/_classification.py:1565: UndefinedMetricWarning: Precision is ill-defined and being set to 0.0 in labels with no predicted samples. Use `zero_division` parameter to control this behavior.\n",
      "  _warn_prf(average, modifier, f\"{metric.capitalize()} is\", len(result))\n",
      "/usr/local/lib/python3.11/dist-packages/sklearn/metrics/_classification.py:1565: UndefinedMetricWarning: Precision is ill-defined and being set to 0.0 in labels with no predicted samples. Use `zero_division` parameter to control this behavior.\n",
      "  _warn_prf(average, modifier, f\"{metric.capitalize()} is\", len(result))\n"
     ]
    }
   ],
   "source": [
    "from sklearn.preprocessing import LabelEncoder, StandardScaler\n",
    "from sklearn.svm import SVC\n",
    "\n",
    "embeddings_for_classification = pd.DataFrame(cls_embeddings_array,\n",
    "                                             columns = [f\"dim_{i}\" for i in range(cls_embeddings_array.shape[1])])\n",
    "\n",
    "predicted_property = material_text[\"property_classification\"]\n",
    "\n",
    "\n",
    "# Encode the categorical target labels\n",
    "label_encoder = LabelEncoder()\n",
    "encoded_property = label_encoder.fit_transform(predicted_property)\n",
    "\n",
    "# Identify class counts\n",
    "encoded_property_counts = pd.Series(encoded_property).value_counts()\n",
    "\n",
    "# Remove rare classes with fewer than 3 samples\n",
    "valid_properties = encoded_property_counts[encoded_property_counts > 1].index\n",
    "valid_encoded_property = np.where(np.isin(encoded_property, valid_properties))[0]\n",
    "\n",
    "# Filter dataset to include only valid classes\n",
    "embeddings_for_classification = embeddings_for_classification.iloc[valid_encoded_property].reset_index(drop=True)\n",
    "encoded_property = encoded_property[valid_encoded_property]\n",
    "\n",
    "\n",
    "# Split the data into training and testing sets\n",
    "X_train, X_test, y_train, y_test = train_test_split(embeddings_for_classification, encoded_property, test_size = 0.2, random_state = 101)\n",
    "\n",
    " #Standardize the data (SVM requires scaled features for better performance)\n",
    "scaler = StandardScaler()\n",
    "X_train = scaler.fit_transform(X_train)\n",
    "X_test = scaler.transform(X_test)\n",
    "\n",
    "# Train SVM Classifier\n",
    "svm_clf = SVC(kernel = \"linear\", probability = True, random_state = 101)\n",
    "svm_clf.fit(X_train, y_train)\n",
    "\n",
    "# Make predictions\n",
    "y_pred = svm_clf.predict(X_test)\n",
    "\n",
    "# Evaluate model performance\n",
    "property_prediction_accuracy = accuracy_score(y_test, y_pred)\n",
    "print(f\"✅ Model Accuracy: {property_prediction_accuracy:.4f}\")\n",
    "\n",
    "# Extract all classifiable material property\n",
    "possible_properties = np.unique(y_test)\n",
    "possible_property = [label_encoder.classes_[i] for i in possible_properties]\n",
    "\n",
    "# Classification Report\n",
    "print(\"\\nClassification Report:\")\n",
    "print(classification_report(y_test, y_pred, labels = possible_properties, target_names = possible_property))"
   ]
  },
  {
   "cell_type": "markdown",
   "metadata": {
    "id": "Ux6r7iamfwIO"
   },
   "source": [
    "With accuracy, as a measurement metric, the support vector classifier shows to have the better predictive performance of the two multi-categorical classification models assessed."
   ]
  },
  {
   "cell_type": "markdown",
   "metadata": {
    "id": "4s3E0hNNuXph"
   },
   "source": [
    "#### **Would MatBERT perform better??**\n",
    "\n",
    "MatBERT is an extension of BERT just like RoBERTa, but that have been trained on particularly on materials science realated terms, parameters, and dataset. It would be interesting to see how tokenization is done using this domain-specific PLMs and see if embeddings generated differ from those of RoBERTa designed to address generic NLP tasks."
   ]
  },
  {
   "cell_type": "markdown",
   "metadata": {
    "id": "IJmwGm20udvq"
   },
   "source": [
    "Installing/Downloading MatBERT"
   ]
  },
  {
   "cell_type": "code",
   "execution_count": 21,
   "metadata": {
    "colab": {
     "base_uri": "https://localhost:8080/"
    },
    "id": "9uDCQjxRpluz",
    "outputId": "d090bd6c-b879-4b3b-8bb2-bd202277c414"
   },
   "outputs": [
    {
     "name": "stdout",
     "output_type": "stream",
     "text": [
      "--2025-03-17 15:34:21--  https://cedergroup-share.s3-us-west-2.amazonaws.com/public/MatBERT/model_2Mpapers_cased_30522_wd/config.json\n",
      "Resolving cedergroup-share.s3-us-west-2.amazonaws.com (cedergroup-share.s3-us-west-2.amazonaws.com)... 3.5.76.13, 52.92.145.202, 52.92.229.50, ...\n",
      "Connecting to cedergroup-share.s3-us-west-2.amazonaws.com (cedergroup-share.s3-us-west-2.amazonaws.com)|3.5.76.13|:443... connected.\n",
      "HTTP request sent, awaiting response... 200 OK\n",
      "Length: 507 [application/json]\n",
      "Saving to: ‘/content/drive/MyDrive/matbert/matbert-base-cased/config.json’\n",
      "\n",
      "/content/drive/MyDr 100%[===================>]     507  --.-KB/s    in 0s      \n",
      "\n",
      "2025-03-17 15:34:22 (7.27 MB/s) - ‘/content/drive/MyDrive/matbert/matbert-base-cased/config.json’ saved [507/507]\n",
      "\n",
      "--2025-03-17 15:34:22--  https://cedergroup-share.s3-us-west-2.amazonaws.com/public/MatBERT/model_2Mpapers_cased_30522_wd/vocab.txt\n",
      "Resolving cedergroup-share.s3-us-west-2.amazonaws.com (cedergroup-share.s3-us-west-2.amazonaws.com)... 3.5.85.118, 52.92.203.242, 52.218.180.1, ...\n",
      "Connecting to cedergroup-share.s3-us-west-2.amazonaws.com (cedergroup-share.s3-us-west-2.amazonaws.com)|3.5.85.118|:443... connected.\n",
      "HTTP request sent, awaiting response... 200 OK\n",
      "Length: 217022 (212K) [text/plain]\n",
      "Saving to: ‘/content/drive/MyDrive/matbert/matbert-base-cased/vocab.txt’\n",
      "\n",
      "/content/drive/MyDr 100%[===================>] 211.94K   419KB/s    in 0.5s    \n",
      "\n",
      "2025-03-17 15:34:23 (419 KB/s) - ‘/content/drive/MyDrive/matbert/matbert-base-cased/vocab.txt’ saved [217022/217022]\n",
      "\n",
      "--2025-03-17 15:34:23--  https://cedergroup-share.s3-us-west-2.amazonaws.com/public/MatBERT/model_2Mpapers_cased_30522_wd/pytorch_model.bin\n",
      "Resolving cedergroup-share.s3-us-west-2.amazonaws.com (cedergroup-share.s3-us-west-2.amazonaws.com)... 52.218.220.49, 52.92.185.226, 52.218.168.161, ...\n",
      "Connecting to cedergroup-share.s3-us-west-2.amazonaws.com (cedergroup-share.s3-us-west-2.amazonaws.com)|52.218.220.49|:443... connected.\n",
      "HTTP request sent, awaiting response... 200 OK\n",
      "Length: 438147282 (418M) [application/octet-stream]\n",
      "Saving to: ‘/content/drive/MyDrive/matbert/matbert-base-cased/pytorch_model.bin’\n",
      "\n",
      "/content/drive/MyDr 100%[===================>] 417.85M  13.3MB/s    in 28s     \n",
      "\n",
      "2025-03-17 15:34:52 (14.7 MB/s) - ‘/content/drive/MyDrive/matbert/matbert-base-cased/pytorch_model.bin’ saved [438147282/438147282]\n",
      "\n",
      "--2025-03-17 15:34:53--  https://cedergroup-share.s3-us-west-2.amazonaws.com/public/MatBERT/model_2Mpapers_uncased_30522_wd/config.json\n",
      "Resolving cedergroup-share.s3-us-west-2.amazonaws.com (cedergroup-share.s3-us-west-2.amazonaws.com)... 3.5.80.164, 52.92.139.138, 3.5.80.190, ...\n",
      "Connecting to cedergroup-share.s3-us-west-2.amazonaws.com (cedergroup-share.s3-us-west-2.amazonaws.com)|3.5.80.164|:443... connected.\n",
      "HTTP request sent, awaiting response... 200 OK\n",
      "Length: 508 [application/json]\n",
      "Saving to: ‘/content/drive/MyDrive/matbert/matbert-base-uncased/config.json’\n",
      "\n",
      "/content/drive/MyDr 100%[===================>]     508  --.-KB/s    in 0s      \n",
      "\n",
      "2025-03-17 15:34:53 (46.2 MB/s) - ‘/content/drive/MyDrive/matbert/matbert-base-uncased/config.json’ saved [508/508]\n",
      "\n",
      "--2025-03-17 15:34:53--  https://cedergroup-share.s3-us-west-2.amazonaws.com/public/MatBERT/model_2Mpapers_uncased_30522_wd/vocab.txt\n",
      "Resolving cedergroup-share.s3-us-west-2.amazonaws.com (cedergroup-share.s3-us-west-2.amazonaws.com)... 3.5.80.164, 52.92.139.138, 3.5.80.190, ...\n",
      "Connecting to cedergroup-share.s3-us-west-2.amazonaws.com (cedergroup-share.s3-us-west-2.amazonaws.com)|3.5.80.164|:443... connected.\n",
      "HTTP request sent, awaiting response... 200 OK\n",
      "Length: 222882 (218K) [text/plain]\n",
      "Saving to: ‘/content/drive/MyDrive/matbert/matbert-base-uncased/vocab.txt’\n",
      "\n",
      "/content/drive/MyDr 100%[===================>] 217.66K   431KB/s    in 0.5s    \n",
      "\n",
      "2025-03-17 15:34:55 (431 KB/s) - ‘/content/drive/MyDrive/matbert/matbert-base-uncased/vocab.txt’ saved [222882/222882]\n",
      "\n",
      "--2025-03-17 15:34:55--  https://cedergroup-share.s3-us-west-2.amazonaws.com/public/MatBERT/model_2Mpapers_uncased_30522_wd/pytorch_model.bin\n",
      "Resolving cedergroup-share.s3-us-west-2.amazonaws.com (cedergroup-share.s3-us-west-2.amazonaws.com)... 3.5.80.164, 52.92.139.138, 3.5.80.190, ...\n",
      "Connecting to cedergroup-share.s3-us-west-2.amazonaws.com (cedergroup-share.s3-us-west-2.amazonaws.com)|3.5.80.164|:443... connected.\n",
      "HTTP request sent, awaiting response... 200 OK\n",
      "Length: 438147282 (418M) [application/octet-stream]\n",
      "Saving to: ‘/content/drive/MyDrive/matbert/matbert-base-uncased/pytorch_model.bin’\n",
      "\n",
      "/content/drive/MyDr 100%[===================>] 417.85M  19.5MB/s    in 25s     \n",
      "\n",
      "2025-03-17 15:35:20 (16.9 MB/s) - ‘/content/drive/MyDrive/matbert/matbert-base-uncased/pytorch_model.bin’ saved [438147282/438147282]\n",
      "\n"
     ]
    }
   ],
   "source": [
    "# Set the model storage path inside Google Drive\n",
    "MODEL_PATH=\"/content/drive/MyDrive/matbert\"\n",
    "!mkdir -p \"$MODEL_PATH/matbert-base-cased\"\n",
    "!mkdir -p \"$MODEL_PATH/matbert-base-uncased\"\n",
    "\n",
    "# Download MatBERT (Cased Version)\n",
    "!wget -O \"$MODEL_PATH/matbert-base-cased/config.json\" https://cedergroup-share.s3-us-west-2.amazonaws.com/public/MatBERT/model_2Mpapers_cased_30522_wd/config.json\n",
    "!wget -O \"$MODEL_PATH/matbert-base-cased/vocab.txt\" https://cedergroup-share.s3-us-west-2.amazonaws.com/public/MatBERT/model_2Mpapers_cased_30522_wd/vocab.txt\n",
    "!wget -O \"$MODEL_PATH/matbert-base-cased/pytorch_model.bin\" https://cedergroup-share.s3-us-west-2.amazonaws.com/public/MatBERT/model_2Mpapers_cased_30522_wd/pytorch_model.bin\n",
    "\n",
    "# Download MatBERT (Uncased Version)\n",
    "!wget -O \"$MODEL_PATH/matbert-base-uncased/config.json\" https://cedergroup-share.s3-us-west-2.amazonaws.com/public/MatBERT/model_2Mpapers_uncased_30522_wd/config.json\n",
    "!wget -O \"$MODEL_PATH/matbert-base-uncased/vocab.txt\" https://cedergroup-share.s3-us-west-2.amazonaws.com/public/MatBERT/model_2Mpapers_uncased_30522_wd/vocab.txt\n",
    "!wget -O \"$MODEL_PATH/matbert-base-uncased/pytorch_model.bin\" https://cedergroup-share.s3-us-west-2.amazonaws.com/public/MatBERT/model_2Mpapers_uncased_30522_wd/pytorch_model.bin"
   ]
  },
  {
   "cell_type": "markdown",
   "metadata": {
    "id": "pE0ZtUjmvwJa"
   },
   "source": [
    "### Importing MatBERT Tokenizer and Model"
   ]
  },
  {
   "cell_type": "code",
   "execution_count": 22,
   "metadata": {
    "colab": {
     "base_uri": "https://localhost:8080/"
    },
    "id": "sWppjmKfvu8U",
    "outputId": "07e8efed-f6ed-4111-d67b-bec325116af1"
   },
   "outputs": [
    {
     "name": "stderr",
     "output_type": "stream",
     "text": [
      "Some weights of BertModel were not initialized from the model checkpoint at /content/drive/MyDrive/matbert/matbert-base-cased and are newly initialized: ['bert.pooler.dense.bias', 'bert.pooler.dense.weight']\n",
      "You should probably TRAIN this model on a down-stream task to be able to use it for predictions and inference.\n"
     ]
    }
   ],
   "source": [
    "from transformers import BertTokenizerFast, BertModel\n",
    "\n",
    "# Set MatBERT model path (Update if needed)\n",
    "MODEL_PATH = \"/content/drive/MyDrive/matbert/matbert-base-cased\"\n",
    "\n",
    "# Load MatBERT tokenizer\n",
    "mattokenizer = BertTokenizerFast.from_pretrained(MODEL_PATH, do_lower_case=False)\n",
    "\n",
    "# Load MatBERT model\n",
    "matmodel = BertModel.from_pretrained(MODEL_PATH)"
   ]
  },
  {
   "cell_type": "markdown",
   "metadata": {
    "id": "DxOZz1UDx638"
   },
   "source": [
    "## Generating Embeddings Using MatBERT Model"
   ]
  },
  {
   "cell_type": "code",
   "execution_count": 23,
   "metadata": {
    "id": "vZvFDAOmwDnB"
   },
   "outputs": [],
   "source": [
    "from torch.utils.data import DataLoader, Dataset\n",
    "import torch\n",
    "import numpy as np\n",
    "import pandas as pd\n",
    "\n",
    "\n",
    "#Let's create function for batch proprocessing of data\n",
    "class MaterialPropertyDataset(Dataset):\n",
    "    def __init__(self, material_features):\n",
    "        self.material_features = material_features\n",
    "\n",
    "    def __len__(self):\n",
    "        return len(self.material_features)\n",
    "\n",
    "    def __getitem__(self, idx):\n",
    "        return self.material_features[idx]\n",
    "\n",
    "# Create function to generate embeddings in batches\n",
    "def get_cls_embeddings_batchwise(material_features_list, batch_size = 16):\n",
    "    dataset = MaterialPropertyDataset(material_features_list)\n",
    "    dataloader = DataLoader(dataset, batch_size = batch_size)\n",
    "\n",
    "    all_cls_embeddings_from_mat = []\n",
    "\n",
    "    matmodel.eval()\n",
    "    with torch.no_grad():\n",
    "        for batch in dataloader:\n",
    "            tokens = mattokenizer(batch, padding=True, truncation=True, return_tensors=\"pt\", max_length=512)\n",
    "            tokens = {key: value.to(device) for key, value in tokens.items()}  # Move tokens to GPU\n",
    "            output = matmodel(**tokens)\n",
    "            embeddings = output.last_hidden_state[:, 0, :].cpu().numpy()  # CLS token embedding\n",
    "            all_cls_embeddings_from_mat.append(embeddings)\n",
    "\n",
    "    return np.vstack(all_cls_embeddings_from_mat)"
   ]
  },
  {
   "cell_type": "markdown",
   "metadata": {
    "id": "qVJz0Lqf09XU"
   },
   "source": [
    "## Getting the Generated Embeddings from MatBERT"
   ]
  },
  {
   "cell_type": "code",
   "execution_count": 24,
   "metadata": {
    "id": "hIcX1WCt1EC_"
   },
   "outputs": [],
   "source": [
    "device = torch.device(\"cuda\" if torch.cuda.is_available() else \"cpu\")\n",
    "matmodel.to(device)\n",
    "\n",
    "\n",
    "# Assign the appropriate column of the dataset\n",
    "material_features_list = material_text[\"feature_description\"].astype(str).tolist()\n",
    "\n",
    "#Pass in the features text description in batches\n",
    "cls_embeddings_array_from_mat = get_cls_embeddings_batchwise(material_features_list, batch_size = 16)"
   ]
  },
  {
   "cell_type": "markdown",
   "metadata": {
    "id": "PCtEBjTE0ks8"
   },
   "source": [
    "## Visualization of the Embeddings Generated by MatBERT Based on the Material Class"
   ]
  },
  {
   "cell_type": "code",
   "execution_count": 25,
   "metadata": {
    "colab": {
     "base_uri": "https://localhost:8080/",
     "height": 1000
    },
    "id": "PAT5NVnw0jpC",
    "outputId": "fc434786-7b97-40b3-d324-de3481611788"
   },
   "outputs": [
    {
     "name": "stdout",
     "output_type": "stream",
     "text": [
      "\n",
      "Possible Material Class Type\n",
      "intermediate       20\n",
      "baal4              20\n",
      "ferroelectric      19\n",
      "perovskite         19\n",
      "alb2               19\n",
      "ionic              19\n",
      "nonmetal           19\n",
      "b.c.c.             19\n",
      "semiconductor      18\n",
      "ferromagnet        18\n",
      "close-packed       18\n",
      "heavy-fermion      18\n",
      "metal              17\n",
      "antiferromagnet    17\n",
      "superconductor     17\n",
      "cuprate            17\n",
      "ferrimagnet        16\n",
      "hard               16\n",
      "diamagnetic        15\n",
      "Name: count, dtype: int64\n"
     ]
    },
    {
     "data": {
      "image/png": "[encoded data removed]",
      "text/plain": [
       "<Figure size 800x800 with 1 Axes>"
      ]
     },
     "metadata": {},
     "output_type": "display_data"
    }
   ],
   "source": [
    "import numpy as np\n",
    "import pandas as pd\n",
    "from sklearn.manifold import TSNE\n",
    "import matplotlib.pyplot as plt\n",
    "import re\n",
    "import seaborn as sns\n",
    "from sklearn.model_selection import train_test_split\n",
    "from bs4 import BeautifulSoup\n",
    "\n",
    "def cls_embeddings_from_mat_based_on_material_class(cls_embeddings_array_from_mat, material_text):\n",
    "\n",
    "    texts = material_text[\"feature_description\"].values\n",
    "\n",
    "\n",
    "\n",
    "    def get_material_class(text):\n",
    "      # Convert HTML subscripts (e.g., BaAl<sub>4</sub> to BaAl4)\n",
    "      text = BeautifulSoup(text, \"html.parser\").get_text()\n",
    "\n",
    "\n",
    "      material_classes = {\"metal\", \"antiferromagnet\", \"ferromagnet\",\"nonmetal\",\n",
    "                          \"semiconductor\", \"intermediate\", \"diamagnetic\",\n",
    "                          \"ferrimagnet\", \"superconductor\", \"ferroelectric\",\n",
    "                          \"heavy-fermion\", \"hard\", \"ionic\", \"perovskite\",\n",
    "                            \"cuprate\", \"close-packed\", \"baal4\",\n",
    "                            \"alb2\", \"b.c.c.\"}\n",
    "\n",
    "\n",
    "      pattern = r\"\\b(metal|antiferromagnet|ferromagnet|nonmetal|semiconductor|intermediate|diamagnetic|ferrimagnet|superconductor|ferroelectric|heavy-fermion|hard|ionic|perovskite|cuprate|close-packed|baal4|alb2|b\\.c\\.c\\.)\\b\"\n",
    "\n",
    "      match = re.search(pattern, text.lower())\n",
    "\n",
    "      if match:\n",
    "        return match.group(1)\n",
    "\n",
    "      classes = text.lower().split()\n",
    "      for word in classes:\n",
    "        if word in material_classes:\n",
    "          return word\n",
    "\n",
    "      return \"unknown\"\n",
    "\n",
    "\n",
    "    material_classes = [get_material_class(text) for text in texts]\n",
    "\n",
    "\n",
    "    tsne = TSNE(n_components=2,\n",
    "                perplexity = min(len(cls_embeddings_array) // 3, 30),\n",
    "                random_state=42, verbose = 0)\n",
    "    tsne_results = tsne.fit_transform(cls_embeddings_array_from_mat)\n",
    "\n",
    "\n",
    "    embeddings_plot_from_mat_for_material_class = pd.DataFrame({\n",
    "        'tsne_1': tsne_results[:, 0], 'tsne_2': tsne_results[:, 1],\n",
    "        'material_class': material_classes})\n",
    "\n",
    "\n",
    "    plt.figure(figsize=(8, 8))\n",
    "\n",
    "\n",
    "    Number_of_material_class = pd.Series(material_classes).value_counts()\n",
    "    print(\"\\nPossible Material Class Type\")\n",
    "    print(Number_of_material_class)\n",
    "\n",
    "    sns.scatterplot(data = embeddings_plot_from_mat_for_material_class,\n",
    "                           x = 'tsne_1', y = 'tsne_2', hue = 'material_class',\n",
    "                           palette = \"coolwarm\", alpha = 0.9)\n",
    "\n",
    "\n",
    "    plt.legend(title = 'Material Class', loc = 'best', fontsize = 8,\n",
    "               title_fontsize = 8)\n",
    "    plt.xticks([])\n",
    "    plt.yticks([])\n",
    "    plt.xlabel('')\n",
    "    plt.ylabel('')\n",
    "\n",
    "    plt.tight_layout()\n",
    "    plt.show()\n",
    "\n",
    "    return plt, Number_of_material_class\n",
    "\n",
    "Number_of_material_class = cls_embeddings_from_mat_based_on_material_class(cls_embeddings_array_from_mat, material_text)"
   ]
  },
  {
   "cell_type": "markdown",
   "metadata": {
    "id": "knFDFiNAf1gH"
   },
   "source": [
    "Embeddings generated by MatBERT model, just like in RoBERTa were able to show clustering of embeddings based on the material class - giving insight into distinction amongst these material classes. We probably also observe \"better\" distinction in the clustering."
   ]
  },
  {
   "cell_type": "markdown",
   "metadata": {
    "id": "sR8tAjC42FUL"
   },
   "source": [
    "## Integrating SVC Classification Model to the MatBERT Generated Embeddings"
   ]
  },
  {
   "cell_type": "code",
   "execution_count": 26,
   "metadata": {
    "colab": {
     "base_uri": "https://localhost:8080/"
    },
    "id": "TVh6Yo5g2KPg",
    "outputId": "f967f937-dea3-4615-b708-ab522d0ff8f6"
   },
   "outputs": [
    {
     "name": "stdout",
     "output_type": "stream",
     "text": [
      "✅ Model Accuracy: 0.7241\n",
      "\n",
      "Classification Report:\n",
      "                                      precision    recall  f1-score   support\n",
      "\n",
      "electronic and electrical properties       0.58      0.85      0.69        13\n",
      "                 magnetic properties       0.82      0.78      0.80        23\n",
      "               mechanical properties       0.00      0.00      0.00         3\n",
      "             metamagnetic transition       0.00      0.00      0.00         1\n",
      "                  optical properties       0.00      0.00      0.00         1\n",
      "                   phase transitions       1.00      1.00      1.00         4\n",
      "                   superconductivity       0.67      0.50      0.57         4\n",
      "thermal and thermodynamic properties       0.78      0.78      0.78         9\n",
      "\n",
      "                            accuracy                           0.72        58\n",
      "                           macro avg       0.48      0.49      0.48        58\n",
      "                        weighted avg       0.69      0.72      0.70        58\n",
      "\n"
     ]
    },
    {
     "name": "stderr",
     "output_type": "stream",
     "text": [
      "/usr/local/lib/python3.11/dist-packages/sklearn/metrics/_classification.py:1565: UndefinedMetricWarning: Precision is ill-defined and being set to 0.0 in labels with no predicted samples. Use `zero_division` parameter to control this behavior.\n",
      "  _warn_prf(average, modifier, f\"{metric.capitalize()} is\", len(result))\n",
      "/usr/local/lib/python3.11/dist-packages/sklearn/metrics/_classification.py:1565: UndefinedMetricWarning: Precision is ill-defined and being set to 0.0 in labels with no predicted samples. Use `zero_division` parameter to control this behavior.\n",
      "  _warn_prf(average, modifier, f\"{metric.capitalize()} is\", len(result))\n",
      "/usr/local/lib/python3.11/dist-packages/sklearn/metrics/_classification.py:1565: UndefinedMetricWarning: Precision is ill-defined and being set to 0.0 in labels with no predicted samples. Use `zero_division` parameter to control this behavior.\n",
      "  _warn_prf(average, modifier, f\"{metric.capitalize()} is\", len(result))\n"
     ]
    }
   ],
   "source": [
    "from sklearn.preprocessing import LabelEncoder, StandardScaler\n",
    "from sklearn.svm import SVC\n",
    "\n",
    "mat_embeddings_for_classification = pd.DataFrame(cls_embeddings_array_from_mat,\n",
    "                                             columns = [f\"dim_{i}\" for i in range(cls_embeddings_array_from_mat.shape[1])])\n",
    "\n",
    "predicted_property = material_text[\"property_classification\"]\n",
    "\n",
    "\n",
    "# Encode the categorical target labels\n",
    "label_encoder = LabelEncoder()\n",
    "encoded_property = label_encoder.fit_transform(predicted_property)\n",
    "\n",
    "# Identify class counts\n",
    "encoded_property_counts = pd.Series(encoded_property).value_counts()\n",
    "\n",
    "# Remove rare classes with fewer than 3 samples\n",
    "valid_properties = encoded_property_counts[encoded_property_counts > 1].index\n",
    "valid_encoded_property = np.where(np.isin(encoded_property, valid_properties))[0]\n",
    "\n",
    "# Filter dataset to include only valid classes\n",
    "mat_embeddings_for_classification = mat_embeddings_for_classification.iloc[valid_encoded_property].reset_index(drop=True)\n",
    "encoded_property = encoded_property[valid_encoded_property]\n",
    "\n",
    "\n",
    "# Split the data into training and testing sets\n",
    "X_train, X_test, y_train, y_test = train_test_split(embeddings_for_classification, encoded_property, test_size = 0.2, random_state = 101)\n",
    "\n",
    " #Standardize the data (SVM requires scaled features for better performance)\n",
    "scaler = StandardScaler()\n",
    "X_train = scaler.fit_transform(X_train)\n",
    "X_test = scaler.transform(X_test)\n",
    "\n",
    "# Train SVM Classifier\n",
    "svm_clf = SVC(kernel = \"linear\", probability = True, random_state = 101)\n",
    "svm_clf.fit(X_train, y_train)\n",
    "\n",
    "# Make predictions\n",
    "y_pred = svm_clf.predict(X_test)\n",
    "\n",
    "# Evaluate model performance\n",
    "mat_property_prediction_accuracy = accuracy_score(y_test, y_pred)\n",
    "print(f\"✅ Model Accuracy: {mat_property_prediction_accuracy:.4f}\")\n",
    "\n",
    "# Extract all classifiable material property\n",
    "possible_properties = np.unique(y_test)\n",
    "possible_property = [label_encoder.classes_[i] for i in possible_properties]\n",
    "\n",
    "# Classification Report Generated from Training with MatBERT Embeddings\n",
    "print(\"\\nClassification Report:\")\n",
    "print(classification_report(y_test, y_pred, labels = possible_properties, target_names = possible_property))"
   ]
  },
  {
   "cell_type": "markdown",
   "metadata": {
    "id": "zHSnSMxriFOX"
   },
   "source": [
    "The SVC doesn't however show that the MatBERT model improves the predictive performance of the classifier."
   ]
  },
  {
   "cell_type": "markdown",
   "metadata": {
    "id": "5yU5CvMViWah"
   },
   "source": [
    "## **Outlook**\n",
    "\n",
    "I believe the performance of the PLMs and consequently the models can be improved if:\n",
    "\n",
    "More data are provided to the PLMs to work with. This also presents the classification models with more data to train and test on. More so, with more data, it becomes very reasonable to bag and boost the forest classifier for improved predictive performance.\n",
    "\n",
    "The models are fine-tuned using self-developed, controlled dataset either from experimentally/simulations generated dataset, or from very reliable database.\n",
    "\n",
    "I abstractly think it is possible to harness the attentions computed\n",
    "during the embedding generation process to gain better insights into how the PLMs handle material features and general description, and their overall influence on the group of predicted material property."
   ]
  }
 ],
 "metadata": {
  "colab": {
   "machine_shape": "hm",
   "provenance": []
  },
  "kernelspec": {
   "display_name": "Python 3 (ipykernel)",
   "language": "python",
   "name": "python3"
  },
  "language_info": {
   "codemirror_mode": {
    "name": "ipython",
    "version": 3
   },
   "file_extension": ".py",
   "mimetype": "text/x-python",
   "name": "python",
   "nbconvert_exporter": "python",
   "pygments_lexer": "ipython3",
   "version": "3.9.13"
  }
 },
 "nbformat": 4,
 "nbformat_minor": 1
}
