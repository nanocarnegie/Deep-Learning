{
 "cells": [
  {
   "cell_type": "markdown",
   "id": "01bffedb",
   "metadata": {},
   "source": [
    "### In a bid to get hands-on practical experience on building CNNs, this is a project built for fruits image augmentation and prediction. Data was sourced [here](https://www.kaggle.com/datasets/kritikseth/fruit-and-vegetable-image-recognition)"
   ]
  },
  {
   "cell_type": "code",
   "execution_count": 1,
   "id": "a6928a30",
   "metadata": {},
   "outputs": [],
   "source": [
    "#Let's get/import the required libraries and modules\n",
    "\n",
    "from tensorflow.keras.preprocessing.image import ImageDataGenerator\n",
    "from tensorflow.keras.models import Sequential\n",
    "from tensorflow.keras.layers import Conv2D\n",
    "from tensorflow.keras.layers import MaxPool2D\n",
    "from tensorflow.keras.layers import Flatten\n",
    "from tensorflow.keras.layers import Dense, Activation, Dropout\n",
    "import numpy as np"
   ]
  },
  {
   "cell_type": "markdown",
   "id": "13c0b63d",
   "metadata": {},
   "source": [
    "### Training image preprocessing and transformation"
   ]
  },
  {
   "cell_type": "code",
   "execution_count": 2,
   "id": "4aa87f8e",
   "metadata": {},
   "outputs": [
    {
     "name": "stdout",
     "output_type": "stream",
     "text": [
      "Found 3115 images belonging to 36 classes.\n"
     ]
    }
   ],
   "source": [
    "training_datagen = ImageDataGenerator(rescale = 1./255, zoom_range = 0.2, shear_range = 0.2, horizontal_flip = True)\n",
    "training_images = training_datagen.flow_from_directory(\"fruits data/fruits train\",\n",
    "                                                      target_size = (224, 224), \n",
    "                                                       batch_size = 32, \n",
    "                                                       class_mode = \"categorical\")"
   ]
  },
  {
   "cell_type": "markdown",
   "id": "d1e232f6",
   "metadata": {},
   "source": [
    "### Validation images preprocessing"
   ]
  },
  {
   "cell_type": "code",
   "execution_count": 3,
   "id": "b23e3c40",
   "metadata": {},
   "outputs": [
    {
     "name": "stdout",
     "output_type": "stream",
     "text": [
      "Found 351 images belonging to 36 classes.\n"
     ]
    }
   ],
   "source": [
    "validation_datagen = ImageDataGenerator(rescale = 1./255)\n",
    "validation_images = validation_datagen.flow_from_directory(\"fruits data/fruits validation\",\n",
    "                                                      target_size = (224, 224), \n",
    "                                                       batch_size = 32, \n",
    "                                                       class_mode = \"categorical\")"
   ]
  },
  {
   "cell_type": "markdown",
   "id": "8346444d",
   "metadata": {},
   "source": [
    "### Building the CNN"
   ]
  },
  {
   "cell_type": "code",
   "execution_count": 4,
   "id": "48cea486",
   "metadata": {},
   "outputs": [
    {
     "name": "stderr",
     "output_type": "stream",
     "text": [
      "C:\\Users\\olayi\\anaconda3\\lib\\site-packages\\keras\\src\\layers\\convolutional\\base_conv.py:107: UserWarning: Do not pass an `input_shape`/`input_dim` argument to a layer. When using Sequential models, prefer using an `Input(shape)` object as the first layer in the model instead.\n",
      "  super().__init__(activity_regularizer=activity_regularizer, **kwargs)\n"
     ]
    }
   ],
   "source": [
    "#Initialize the model\n",
    "cnn = Sequential()\n",
    "\n",
    "#Add first convolution layer\n",
    "cnn.add(Conv2D(filters = 32, kernel_size = 3, activation = \"relu\", input_shape = [224, 224, 3])) #third dimension of the input data representing that it's a colored image\n",
    "#Pooling of the layer\n",
    "cnn.add(MaxPool2D(pool_size = 2, strides = 2))\n",
    "\n",
    "#Adding and pooling a second convolution layer\n",
    "cnn.add(Conv2D(filters = 32, kernel_size = 3, activation = \"relu\"))\n",
    "cnn.add(MaxPool2D(pool_size = 2, strides = 2))\n",
    "        \n",
    "\n",
    "#Flattening our CNN into a 1D vector\n",
    "cnn.add(Flatten())\n",
    "        \n",
    "#Merging with fully connected dense layers with some % of dropout\n",
    "cnn.add(Dense(512, activation = \"relu\"))\n",
    "cnn.add(Dropout(0.5))\n",
    "\n",
    "        \n",
    "        \n",
    "#Final layer\n",
    "cnn.add(Dense(36, activation = \"softmax\"))\n",
    "        \n",
    "        \n",
    "#Compile the CNN\n",
    "cnn.compile(optimizer = \"adam\", loss = \"categorical_crossentropy\", metrics = [\"accuracy\"])"
   ]
  },
  {
   "cell_type": "markdown",
   "id": "8405958b",
   "metadata": {},
   "source": [
    "### Training the CNN"
   ]
  },
  {
   "cell_type": "code",
   "execution_count": 5,
   "id": "46e82f28",
   "metadata": {},
   "outputs": [
    {
     "name": "stdout",
     "output_type": "stream",
     "text": [
      "Epoch 1/30\n"
     ]
    },
    {
     "name": "stderr",
     "output_type": "stream",
     "text": [
      "C:\\Users\\olayi\\anaconda3\\lib\\site-packages\\keras\\src\\trainers\\data_adapters\\py_dataset_adapter.py:122: UserWarning: Your `PyDataset` class should call `super().__init__(**kwargs)` in its constructor. `**kwargs` can include `workers`, `use_multiprocessing`, `max_queue_size`. Do not pass these arguments to `fit()`, as they will be ignored.\n",
      "  self._warn_if_super_not_called()\n",
      "C:\\Users\\olayi\\anaconda3\\lib\\site-packages\\PIL\\Image.py:959: UserWarning: Palette images with Transparency expressed in bytes should be converted to RGBA images\n",
      "  warnings.warn(\n"
     ]
    },
    {
     "name": "stdout",
     "output_type": "stream",
     "text": [
      "\u001b[1m98/98\u001b[0m \u001b[32m━━━━━━━━━━━━━━━━━━━━\u001b[0m\u001b[37m\u001b[0m \u001b[1m186s\u001b[0m 2s/step - accuracy: 0.0472 - loss: 4.7555 - val_accuracy: 0.1225 - val_loss: 3.2223\n",
      "Epoch 2/30\n",
      "\u001b[1m98/98\u001b[0m \u001b[32m━━━━━━━━━━━━━━━━━━━━\u001b[0m\u001b[37m\u001b[0m \u001b[1m153s\u001b[0m 1s/step - accuracy: 0.0885 - loss: 3.2748 - val_accuracy: 0.2137 - val_loss: 2.9872\n",
      "Epoch 3/30\n",
      "\u001b[1m98/98\u001b[0m \u001b[32m━━━━━━━━━━━━━━━━━━━━\u001b[0m\u001b[37m\u001b[0m \u001b[1m151s\u001b[0m 1s/step - accuracy: 0.1473 - loss: 3.1398 - val_accuracy: 0.2650 - val_loss: 2.6490\n",
      "Epoch 4/30\n",
      "\u001b[1m98/98\u001b[0m \u001b[32m━━━━━━━━━━━━━━━━━━━━\u001b[0m\u001b[37m\u001b[0m \u001b[1m162s\u001b[0m 2s/step - accuracy: 0.1850 - loss: 2.9145 - val_accuracy: 0.3675 - val_loss: 2.4221\n",
      "Epoch 5/30\n",
      "\u001b[1m98/98\u001b[0m \u001b[32m━━━━━━━━━━━━━━━━━━━━\u001b[0m\u001b[37m\u001b[0m \u001b[1m159s\u001b[0m 2s/step - accuracy: 0.2349 - loss: 2.7512 - val_accuracy: 0.4957 - val_loss: 2.0381\n",
      "Epoch 6/30\n",
      "\u001b[1m98/98\u001b[0m \u001b[32m━━━━━━━━━━━━━━━━━━━━\u001b[0m\u001b[37m\u001b[0m \u001b[1m173s\u001b[0m 2s/step - accuracy: 0.2809 - loss: 2.4947 - val_accuracy: 0.5157 - val_loss: 1.7648\n",
      "Epoch 7/30\n",
      "\u001b[1m98/98\u001b[0m \u001b[32m━━━━━━━━━━━━━━━━━━━━\u001b[0m\u001b[37m\u001b[0m \u001b[1m165s\u001b[0m 2s/step - accuracy: 0.3656 - loss: 2.2773 - val_accuracy: 0.5783 - val_loss: 1.4963\n",
      "Epoch 8/30\n",
      "\u001b[1m98/98\u001b[0m \u001b[32m━━━━━━━━━━━━━━━━━━━━\u001b[0m\u001b[37m\u001b[0m \u001b[1m156s\u001b[0m 2s/step - accuracy: 0.3704 - loss: 2.1583 - val_accuracy: 0.6325 - val_loss: 1.3597\n",
      "Epoch 9/30\n",
      "\u001b[1m98/98\u001b[0m \u001b[32m━━━━━━━━━━━━━━━━━━━━\u001b[0m\u001b[37m\u001b[0m \u001b[1m153s\u001b[0m 1s/step - accuracy: 0.4302 - loss: 1.9919 - val_accuracy: 0.6154 - val_loss: 1.3453\n",
      "Epoch 10/30\n",
      "\u001b[1m98/98\u001b[0m \u001b[32m━━━━━━━━━━━━━━━━━━━━\u001b[0m\u001b[37m\u001b[0m \u001b[1m158s\u001b[0m 2s/step - accuracy: 0.4241 - loss: 1.9399 - val_accuracy: 0.7493 - val_loss: 1.0125\n",
      "Epoch 11/30\n",
      "\u001b[1m98/98\u001b[0m \u001b[32m━━━━━━━━━━━━━━━━━━━━\u001b[0m\u001b[37m\u001b[0m \u001b[1m148s\u001b[0m 1s/step - accuracy: 0.5042 - loss: 1.7338 - val_accuracy: 0.7607 - val_loss: 0.9301\n",
      "Epoch 12/30\n",
      "\u001b[1m98/98\u001b[0m \u001b[32m━━━━━━━━━━━━━━━━━━━━\u001b[0m\u001b[37m\u001b[0m \u001b[1m141s\u001b[0m 1s/step - accuracy: 0.5184 - loss: 1.5972 - val_accuracy: 0.8063 - val_loss: 0.8157\n",
      "Epoch 13/30\n",
      "\u001b[1m98/98\u001b[0m \u001b[32m━━━━━━━━━━━━━━━━━━━━\u001b[0m\u001b[37m\u001b[0m \u001b[1m147s\u001b[0m 1s/step - accuracy: 0.5720 - loss: 1.4923 - val_accuracy: 0.8063 - val_loss: 0.7412\n",
      "Epoch 14/30\n",
      "\u001b[1m98/98\u001b[0m \u001b[32m━━━━━━━━━━━━━━━━━━━━\u001b[0m\u001b[37m\u001b[0m \u001b[1m142s\u001b[0m 1s/step - accuracy: 0.5618 - loss: 1.4571 - val_accuracy: 0.8689 - val_loss: 0.6054\n",
      "Epoch 15/30\n",
      "\u001b[1m98/98\u001b[0m \u001b[32m━━━━━━━━━━━━━━━━━━━━\u001b[0m\u001b[37m\u001b[0m \u001b[1m511s\u001b[0m 5s/step - accuracy: 0.5900 - loss: 1.3678 - val_accuracy: 0.8632 - val_loss: 0.5685\n",
      "Epoch 16/30\n",
      "\u001b[1m98/98\u001b[0m \u001b[32m━━━━━━━━━━━━━━━━━━━━\u001b[0m\u001b[37m\u001b[0m \u001b[1m150s\u001b[0m 1s/step - accuracy: 0.6171 - loss: 1.2461 - val_accuracy: 0.8917 - val_loss: 0.5045\n",
      "Epoch 17/30\n",
      "\u001b[1m98/98\u001b[0m \u001b[32m━━━━━━━━━━━━━━━━━━━━\u001b[0m\u001b[37m\u001b[0m \u001b[1m162s\u001b[0m 2s/step - accuracy: 0.6515 - loss: 1.2224 - val_accuracy: 0.8889 - val_loss: 0.4475\n",
      "Epoch 18/30\n",
      "\u001b[1m98/98\u001b[0m \u001b[32m━━━━━━━━━━━━━━━━━━━━\u001b[0m\u001b[37m\u001b[0m \u001b[1m162s\u001b[0m 2s/step - accuracy: 0.6735 - loss: 1.1068 - val_accuracy: 0.9117 - val_loss: 0.4320\n",
      "Epoch 19/30\n",
      "\u001b[1m98/98\u001b[0m \u001b[32m━━━━━━━━━━━━━━━━━━━━\u001b[0m\u001b[37m\u001b[0m \u001b[1m176s\u001b[0m 2s/step - accuracy: 0.6740 - loss: 1.0489 - val_accuracy: 0.9060 - val_loss: 0.4108\n",
      "Epoch 20/30\n",
      "\u001b[1m98/98\u001b[0m \u001b[32m━━━━━━━━━━━━━━━━━━━━\u001b[0m\u001b[37m\u001b[0m \u001b[1m152s\u001b[0m 1s/step - accuracy: 0.6831 - loss: 1.0393 - val_accuracy: 0.9231 - val_loss: 0.3306\n",
      "Epoch 21/30\n",
      "\u001b[1m98/98\u001b[0m \u001b[32m━━━━━━━━━━━━━━━━━━━━\u001b[0m\u001b[37m\u001b[0m \u001b[1m151s\u001b[0m 1s/step - accuracy: 0.7165 - loss: 0.9059 - val_accuracy: 0.9145 - val_loss: 0.3551\n",
      "Epoch 22/30\n",
      "\u001b[1m98/98\u001b[0m \u001b[32m━━━━━━━━━━━━━━━━━━━━\u001b[0m\u001b[37m\u001b[0m \u001b[1m157s\u001b[0m 2s/step - accuracy: 0.7138 - loss: 0.9283 - val_accuracy: 0.9402 - val_loss: 0.3671\n",
      "Epoch 23/30\n",
      "\u001b[1m98/98\u001b[0m \u001b[32m━━━━━━━━━━━━━━━━━━━━\u001b[0m\u001b[37m\u001b[0m \u001b[1m165s\u001b[0m 2s/step - accuracy: 0.7430 - loss: 0.8801 - val_accuracy: 0.9373 - val_loss: 0.3472\n",
      "Epoch 24/30\n",
      "\u001b[1m98/98\u001b[0m \u001b[32m━━━━━━━━━━━━━━━━━━━━\u001b[0m\u001b[37m\u001b[0m \u001b[1m161s\u001b[0m 2s/step - accuracy: 0.7500 - loss: 0.8261 - val_accuracy: 0.9316 - val_loss: 0.3016\n",
      "Epoch 25/30\n",
      "\u001b[1m98/98\u001b[0m \u001b[32m━━━━━━━━━━━━━━━━━━━━\u001b[0m\u001b[37m\u001b[0m \u001b[1m155s\u001b[0m 1s/step - accuracy: 0.7599 - loss: 0.8087 - val_accuracy: 0.9288 - val_loss: 0.2862\n",
      "Epoch 26/30\n",
      "\u001b[1m98/98\u001b[0m \u001b[32m━━━━━━━━━━━━━━━━━━━━\u001b[0m\u001b[37m\u001b[0m \u001b[1m165s\u001b[0m 2s/step - accuracy: 0.7590 - loss: 0.8099 - val_accuracy: 0.9402 - val_loss: 0.2798\n",
      "Epoch 27/30\n",
      "\u001b[1m98/98\u001b[0m \u001b[32m━━━━━━━━━━━━━━━━━━━━\u001b[0m\u001b[37m\u001b[0m \u001b[1m163s\u001b[0m 2s/step - accuracy: 0.7886 - loss: 0.6905 - val_accuracy: 0.9259 - val_loss: 0.2656\n",
      "Epoch 28/30\n",
      "\u001b[1m98/98\u001b[0m \u001b[32m━━━━━━━━━━━━━━━━━━━━\u001b[0m\u001b[37m\u001b[0m \u001b[1m169s\u001b[0m 2s/step - accuracy: 0.7960 - loss: 0.7047 - val_accuracy: 0.9430 - val_loss: 0.2569\n",
      "Epoch 29/30\n",
      "\u001b[1m98/98\u001b[0m \u001b[32m━━━━━━━━━━━━━━━━━━━━\u001b[0m\u001b[37m\u001b[0m \u001b[1m160s\u001b[0m 2s/step - accuracy: 0.7863 - loss: 0.7020 - val_accuracy: 0.9459 - val_loss: 0.2707\n",
      "Epoch 30/30\n",
      "\u001b[1m98/98\u001b[0m \u001b[32m━━━━━━━━━━━━━━━━━━━━\u001b[0m\u001b[37m\u001b[0m \u001b[1m174s\u001b[0m 2s/step - accuracy: 0.8099 - loss: 0.6216 - val_accuracy: 0.9373 - val_loss: 0.2763\n"
     ]
    },
    {
     "data": {
      "text/plain": [
       "<keras.src.callbacks.history.History at 0x229d9bcf9a0>"
      ]
     },
     "execution_count": 5,
     "metadata": {},
     "output_type": "execute_result"
    }
   ],
   "source": [
    "cnn.fit(x = training_images, validation_data = validation_images, epochs = 30)"
   ]
  },
  {
   "cell_type": "code",
   "execution_count": 9,
   "id": "869520e1",
   "metadata": {},
   "outputs": [],
   "source": [
    "from tensorflow.keras.preprocessing import image\n",
    "import os"
   ]
  },
  {
   "cell_type": "code",
   "execution_count": 14,
   "id": "437809ca",
   "metadata": {},
   "outputs": [
    {
     "name": "stdout",
     "output_type": "stream",
     "text": [
      "Found 359 images belonging to 36 classes.\n"
     ]
    }
   ],
   "source": [
    "test_datagen = ImageDataGenerator(rescale = 1./255)\n",
    "test_images = test_datagen.flow_from_directory(\"fruits data/fruits test\",\n",
    "                                                      target_size = (224, 224), \n",
    "                                                       batch_size = 32, \n",
    "                                                       class_mode = \"categorical\", shuffle = False)"
   ]
  },
  {
   "cell_type": "code",
   "execution_count": 15,
   "id": "5222c2e6",
   "metadata": {},
   "outputs": [
    {
     "name": "stderr",
     "output_type": "stream",
     "text": [
      "C:\\Users\\olayi\\anaconda3\\lib\\site-packages\\keras\\src\\trainers\\data_adapters\\py_dataset_adapter.py:122: UserWarning: Your `PyDataset` class should call `super().__init__(**kwargs)` in its constructor. `**kwargs` can include `workers`, `use_multiprocessing`, `max_queue_size`. Do not pass these arguments to `fit()`, as they will be ignored.\n",
      "  self._warn_if_super_not_called()\n"
     ]
    },
    {
     "name": "stdout",
     "output_type": "stream",
     "text": [
      "\u001b[1m12/12\u001b[0m \u001b[32m━━━━━━━━━━━━━━━━━━━━\u001b[0m\u001b[37m\u001b[0m \u001b[1m16s\u001b[0m 1s/step\n"
     ]
    }
   ],
   "source": [
    "predictions = cnn.predict(test_images)"
   ]
  },
  {
   "cell_type": "code",
   "execution_count": 16,
   "id": "09ff4ec0",
   "metadata": {},
   "outputs": [],
   "source": [
    "predictions = np.argmax(predictions, axis = 1)"
   ]
  },
  {
   "cell_type": "code",
   "execution_count": 17,
   "id": "e9e65253",
   "metadata": {},
   "outputs": [
    {
     "name": "stdout",
     "output_type": "stream",
     "text": [
      "\u001b[1m12/12\u001b[0m \u001b[32m━━━━━━━━━━━━━━━━━━━━\u001b[0m\u001b[37m\u001b[0m \u001b[1m13s\u001b[0m 1s/step - accuracy: 0.9141 - loss: 0.4435\n",
      "Test Accuracy: 93.87%\n"
     ]
    }
   ],
   "source": [
    "loss, accuracy = cnn.evaluate(test_images)\n",
    "print(f\"Test Accuracy: {accuracy*100:.2f}%\")"
   ]
  },
  {
   "cell_type": "markdown",
   "id": "34f2e50b",
   "metadata": {},
   "source": [
    "#### Achieving a 94% classification accuracy seems considerably reasonable "
   ]
  },
  {
   "cell_type": "code",
   "execution_count": 18,
   "id": "709496f8",
   "metadata": {},
   "outputs": [
    {
     "data": {
      "text/plain": [
       "array([ 0,  0,  0,  0,  0,  0,  0,  0,  0,  0,  1,  1,  1,  1,  1,  1,  1,\n",
       "        1,  1,  2,  2,  2,  2,  2,  2,  2,  2,  2,  2,  3,  3,  3,  3,  3,\n",
       "        3,  3,  3,  3,  3,  4,  4,  4,  4,  4,  4,  4,  4,  4,  4,  5,  5,\n",
       "        5,  5,  5,  5,  5,  5,  5,  5,  6,  6,  6,  6,  6,  6,  6,  6,  6,\n",
       "        6,  7,  7,  7,  7,  7,  7,  7,  7,  7,  7,  8,  8,  8,  8,  8,  8,\n",
       "        8,  8,  8,  8,  9,  9,  9,  9,  9,  9,  9,  9,  9,  9, 10, 10, 10,\n",
       "       10, 10, 10, 10, 10, 10, 10, 11, 11, 11, 11, 11, 11, 11, 11, 11, 11,\n",
       "       12, 12, 12, 12, 12, 12, 12, 12, 12, 12, 13, 13, 13, 13, 13, 13, 13,\n",
       "       13, 13, 13, 14, 14, 14, 14, 14, 14, 14, 14, 14, 14, 15, 15, 15, 15,\n",
       "       15, 15, 15, 15, 15, 15, 16, 16, 16, 16, 16, 16, 16, 16, 16, 16, 17,\n",
       "       17, 17, 17, 17, 17, 17, 17, 17, 17, 18, 18, 18, 18, 18, 18, 18, 18,\n",
       "       18, 18, 19, 19, 19, 19, 19, 19, 19, 19, 19, 19, 20, 20, 20, 20, 20,\n",
       "       20, 20, 20, 20, 20, 21, 21, 21, 21, 21, 21, 21, 21, 21, 21, 22, 22,\n",
       "       22, 22, 22, 22, 22, 22, 22, 22, 23, 23, 23, 23, 23, 23, 23, 23, 23,\n",
       "       23, 24, 24, 24, 24, 24, 24, 24, 24, 24, 24, 25, 25, 25, 25, 25, 25,\n",
       "       25, 25, 25, 25, 26, 26, 26, 26, 26, 26, 26, 26, 26, 26, 27, 27, 27,\n",
       "       27, 27, 27, 27, 27, 27, 27, 28, 28, 28, 28, 28, 28, 28, 28, 28, 28,\n",
       "       29, 29, 29, 29, 29, 29, 29, 29, 29, 29, 30, 30, 30, 30, 30, 30, 30,\n",
       "       30, 30, 30, 31, 31, 31, 31, 31, 31, 31, 31, 31, 31, 32, 32, 32, 32,\n",
       "       32, 32, 32, 32, 32, 32, 33, 33, 33, 33, 33, 33, 33, 33, 33, 33, 34,\n",
       "       34, 34, 34, 34, 34, 34, 34, 34, 34, 35, 35, 35, 35, 35, 35, 35, 35,\n",
       "       35, 35])"
      ]
     },
     "execution_count": 18,
     "metadata": {},
     "output_type": "execute_result"
    }
   ],
   "source": [
    "test_images.classes"
   ]
  },
  {
   "cell_type": "code",
   "execution_count": 19,
   "id": "8e973f3b",
   "metadata": {},
   "outputs": [
    {
     "data": {
      "text/plain": [
       "array([ 0,  0,  0,  0, 25,  5,  0,  0,  0, 28,  1,  1, 35,  1,  1,  1,  1,\n",
       "        1, 27,  2,  2,  2,  2,  2,  2,  2,  2,  2,  2,  3,  3,  3,  3,  3,\n",
       "        3,  3,  5,  3,  3,  4,  4,  4,  4,  4,  4,  4,  4,  4,  4,  5,  5,\n",
       "        5,  5,  5,  3,  5,  5,  5,  5,  6,  6,  6,  6, 33,  6,  6,  6,  6,\n",
       "        6,  7, 31,  7,  7,  7,  7,  7,  7,  7,  7,  8,  8, 26,  8,  8,  8,\n",
       "        8,  8,  8,  8,  9,  9,  9, 31,  9, 31,  9,  9, 31,  9, 10, 10, 10,\n",
       "       10, 10, 10, 10, 10, 10,  4, 11, 11, 11, 11, 11, 11, 11, 11, 11, 11,\n",
       "       12, 12, 12, 12, 12, 12, 12, 12, 12, 12, 13, 13, 13, 13, 13, 13, 13,\n",
       "       29, 13, 13, 14, 14, 14, 14, 14, 14, 14, 14, 14, 14, 15, 15, 15, 15,\n",
       "       15, 15, 15, 15, 15, 15, 16, 16, 16, 16, 16, 16, 16, 16, 16, 16, 17,\n",
       "       17, 17, 17, 17, 17, 17, 17, 17, 17, 18, 18, 18, 18, 18, 18, 18, 18,\n",
       "       18, 18, 19, 19, 19, 19, 19, 19, 19, 19, 19, 19, 20, 20, 20, 20, 20,\n",
       "       20, 20, 20, 20, 20, 21, 21, 21, 21, 21, 21, 21, 21, 21, 21, 22, 22,\n",
       "       22, 22, 22, 22, 22, 22, 22, 22, 23, 23, 23, 23, 23, 23, 23, 23, 23,\n",
       "       23, 24, 24, 24, 24, 24, 24, 24, 24, 24, 24, 25, 25, 25, 25, 25, 25,\n",
       "       25, 25, 25, 25, 26, 26, 26, 26, 26, 26, 26, 26, 26, 26, 27, 27, 20,\n",
       "       27, 27, 27, 27, 27, 12, 27, 28, 28, 28, 28, 28, 28, 28, 28, 28, 28,\n",
       "       29, 29, 29, 29, 29, 29, 29, 29, 29, 29, 30, 30, 30, 18, 30, 30, 30,\n",
       "       30, 30, 30, 31, 31, 31, 31, 31, 31, 31, 31, 31,  9, 32, 32, 32, 27,\n",
       "       32, 21, 32, 13, 32, 32, 33, 33, 33, 33, 33, 33, 33, 33, 33, 33, 34,\n",
       "       34, 34, 34, 34, 34, 34, 34, 34, 34, 35, 35, 35, 35, 35, 35, 35, 35,\n",
       "       35, 35], dtype=int64)"
      ]
     },
     "execution_count": 19,
     "metadata": {},
     "output_type": "execute_result"
    }
   ],
   "source": [
    "predictions"
   ]
  },
  {
   "cell_type": "code",
   "execution_count": 20,
   "id": "24c7d8cf",
   "metadata": {},
   "outputs": [],
   "source": [
    "from sklearn.metrics import classification_report"
   ]
  },
  {
   "cell_type": "code",
   "execution_count": 22,
   "id": "dc9ee5a4",
   "metadata": {},
   "outputs": [
    {
     "data": {
      "text/plain": [
       "dict_keys(['apple', 'banana', 'beetroot', 'bell pepper', 'cabbage', 'capsicum', 'carrot', 'cauliflower', 'chilli pepper', 'corn', 'cucumber', 'eggplant', 'garlic', 'ginger', 'grapes', 'jalepeno', 'kiwi', 'lemon', 'lettuce', 'mango', 'onion', 'orange', 'paprika', 'pear', 'peas', 'pineapple', 'pomegranate', 'potato', 'raddish', 'soy beans', 'spinach', 'sweetcorn', 'sweetpotato', 'tomato', 'turnip', 'watermelon'])"
      ]
     },
     "execution_count": 22,
     "metadata": {},
     "output_type": "execute_result"
    }
   ],
   "source": [
    "test_images.class_indices.keys()"
   ]
  },
  {
   "cell_type": "code",
   "execution_count": 23,
   "id": "95ce7685",
   "metadata": {},
   "outputs": [
    {
     "name": "stdout",
     "output_type": "stream",
     "text": [
      "               precision    recall  f1-score   support\n",
      "\n",
      "        apple       1.00      0.70      0.82        10\n",
      "       banana       1.00      0.78      0.88         9\n",
      "     beetroot       1.00      1.00      1.00        10\n",
      "  bell pepper       0.90      0.90      0.90        10\n",
      "      cabbage       0.91      1.00      0.95        10\n",
      "     capsicum       0.82      0.90      0.86        10\n",
      "       carrot       1.00      0.90      0.95        10\n",
      "  cauliflower       1.00      0.90      0.95        10\n",
      "chilli pepper       1.00      0.90      0.95        10\n",
      "         corn       0.88      0.70      0.78        10\n",
      "     cucumber       1.00      0.90      0.95        10\n",
      "     eggplant       1.00      1.00      1.00        10\n",
      "       garlic       0.91      1.00      0.95        10\n",
      "       ginger       0.90      0.90      0.90        10\n",
      "       grapes       1.00      1.00      1.00        10\n",
      "     jalepeno       1.00      1.00      1.00        10\n",
      "         kiwi       1.00      1.00      1.00        10\n",
      "        lemon       1.00      1.00      1.00        10\n",
      "      lettuce       0.91      1.00      0.95        10\n",
      "        mango       1.00      1.00      1.00        10\n",
      "        onion       0.91      1.00      0.95        10\n",
      "       orange       0.91      1.00      0.95        10\n",
      "      paprika       1.00      1.00      1.00        10\n",
      "         pear       1.00      1.00      1.00        10\n",
      "         peas       1.00      1.00      1.00        10\n",
      "    pineapple       0.91      1.00      0.95        10\n",
      "  pomegranate       0.91      1.00      0.95        10\n",
      "       potato       0.80      0.80      0.80        10\n",
      "      raddish       0.91      1.00      0.95        10\n",
      "    soy beans       0.91      1.00      0.95        10\n",
      "      spinach       1.00      0.90      0.95        10\n",
      "    sweetcorn       0.69      0.90      0.78        10\n",
      "  sweetpotato       1.00      0.70      0.82        10\n",
      "       tomato       0.91      1.00      0.95        10\n",
      "       turnip       1.00      1.00      1.00        10\n",
      "   watermelon       0.91      1.00      0.95        10\n",
      "\n",
      "     accuracy                           0.94       359\n",
      "    macro avg       0.94      0.94      0.94       359\n",
      " weighted avg       0.94      0.94      0.94       359\n",
      "\n"
     ]
    }
   ],
   "source": [
    "#Could be interesting to generete some labelled classification report\n",
    "\n",
    "report = classification_report(test_images.classes, predictions, target_names = test_images.class_indices.keys())\n",
    "\n",
    "print(report)"
   ]
  }
 ],
 "metadata": {
  "kernelspec": {
   "display_name": "Python 3 (ipykernel)",
   "language": "python",
   "name": "python3"
  },
  "language_info": {
   "codemirror_mode": {
    "name": "ipython",
    "version": 3
   },
   "file_extension": ".py",
   "mimetype": "text/x-python",
   "name": "python",
   "nbconvert_exporter": "python",
   "pygments_lexer": "ipython3",
   "version": "3.9.13"
  }
 },
 "nbformat": 4,
 "nbformat_minor": 5
}
